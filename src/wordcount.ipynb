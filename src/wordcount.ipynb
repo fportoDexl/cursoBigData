{
  "nbformat": 4,
  "nbformat_minor": 0,
  "metadata": {
    "colab": {
      "name": "wordcount.ipynb",
      "provenance": []
    },
    "kernelspec": {
      "name": "python3",
      "display_name": "Python 3"
    },
    "language_info": {
      "name": "python"
    }
  },
  "cells": [
    {
      "cell_type": "markdown",
      "source": [
        "## Word Count\n",
        "## Iniciando a programação Big Data - Modelo M/R\n",
        "Baixando o pyspark"
      ],
      "metadata": {
        "id": "F1fSH97u3tyH"
      }
    },
    {
      "cell_type": "code",
      "source": [
        "!pip install pyspark"
      ],
      "metadata": {
        "colab": {
          "base_uri": "https://localhost:8080/"
        },
        "id": "2pUlGCS_YSeO",
        "outputId": "2ebd182a-f8c2-4082-d00b-2e7114c7a8a2"
      },
      "execution_count": 1,
      "outputs": [
        {
          "output_type": "stream",
          "name": "stdout",
          "text": [
            "Collecting pyspark\n",
            "  Downloading pyspark-3.2.1.tar.gz (281.4 MB)\n",
            "\u001b[K     |████████████████████████████████| 281.4 MB 35 kB/s \n",
            "\u001b[?25hCollecting py4j==0.10.9.3\n",
            "  Downloading py4j-0.10.9.3-py2.py3-none-any.whl (198 kB)\n",
            "\u001b[K     |████████████████████████████████| 198 kB 59.7 MB/s \n",
            "\u001b[?25hBuilding wheels for collected packages: pyspark\n",
            "  Building wheel for pyspark (setup.py) ... \u001b[?25l\u001b[?25hdone\n",
            "  Created wheel for pyspark: filename=pyspark-3.2.1-py2.py3-none-any.whl size=281853642 sha256=500ba5da52e7f06c87b7aab73636e8ab68c67cabf30f8a956832ff4434e04cf1\n",
            "  Stored in directory: /root/.cache/pip/wheels/9f/f5/07/7cd8017084dce4e93e84e92efd1e1d5334db05f2e83bcef74f\n",
            "Successfully built pyspark\n",
            "Installing collected packages: py4j, pyspark\n",
            "Successfully installed py4j-0.10.9.3 pyspark-3.2.1\n"
          ]
        }
      ]
    },
    {
      "cell_type": "markdown",
      "source": [
        "# Importando a biblioteca pyspark e os módulos de Conexão"
      ],
      "metadata": {
        "id": "P9Et4cr33uFo"
      }
    },
    {
      "cell_type": "code",
      "execution_count": 2,
      "metadata": {
        "id": "xzyIhGx5YMbU"
      },
      "outputs": [],
      "source": [
        "from pyspark import SparkContext, SparkConf"
      ]
    },
    {
      "cell_type": "code",
      "source": [
        "conf = SparkConf().setAppName(\"Word Count - Python\")"
      ],
      "metadata": {
        "id": "T6aiK0KFnmml"
      },
      "execution_count": 3,
      "outputs": []
    },
    {
      "cell_type": "code",
      "source": [
        "sc = SparkContext(conf=conf)"
      ],
      "metadata": {
        "id": "5B8PDhW4nqpl"
      },
      "execution_count": 4,
      "outputs": []
    },
    {
      "cell_type": "markdown",
      "source": [
        "## O arquivo a ser lido esta no github. Vamos baixá-lo para um drive local"
      ],
      "metadata": {
        "id": "gCxHMCxd4IV2"
      }
    },
    {
      "cell_type": "code",
      "source": [
        "!wget https://raw.githubusercontent.com/fportoDexl/cursoBigData/main/word-count.txt"
      ],
      "metadata": {
        "colab": {
          "base_uri": "https://localhost:8080/"
        },
        "id": "6tF47VpDnvwG",
        "outputId": "08e411ec-f8f3-4a47-dc06-72f5b9980a69"
      },
      "execution_count": 5,
      "outputs": [
        {
          "output_type": "stream",
          "name": "stdout",
          "text": [
            "--2022-02-15 13:26:35--  https://raw.githubusercontent.com/fportoDexl/cursoBigData/main/word-count.txt\n",
            "Resolving raw.githubusercontent.com (raw.githubusercontent.com)... 185.199.108.133, 185.199.109.133, 185.199.110.133, ...\n",
            "Connecting to raw.githubusercontent.com (raw.githubusercontent.com)|185.199.108.133|:443... connected.\n",
            "HTTP request sent, awaiting response... 200 OK\n",
            "Length: 3875 (3.8K) [text/plain]\n",
            "Saving to: ‘word-count.txt’\n",
            "\n",
            "\rword-count.txt        0%[                    ]       0  --.-KB/s               \rword-count.txt      100%[===================>]   3.78K  --.-KB/s    in 0s      \n",
            "\n",
            "2022-02-15 13:26:35 (56.8 MB/s) - ‘word-count.txt’ saved [3875/3875]\n",
            "\n"
          ]
        }
      ]
    },
    {
      "cell_type": "markdown",
      "source": [
        "## Agora o pré-processamento se inicia\n",
        "\n",
        "\n",
        "1.   Ler o arquivo e criar um RDD (ja está distribuído em memoria)\n",
        "2.   o FlatMap gera N linhas a partir de uma linha\n",
        "  Neste caso, vamos considerar os separadores de palavras como \"espaço\"\n",
        "3.  Note o pipeline de textFile-> flatMap\n",
        "  A saida do flatMap é um novo RDD (words)\n",
        "\n"
      ],
      "metadata": {
        "id": "GVv7fnyp4V8B"
      }
    },
    {
      "cell_type": "code",
      "source": [
        "words = sc.textFile(\"word-count.txt\").flatMap(lambda line: line.split(\" \"))"
      ],
      "metadata": {
        "id": "guUFkLoS0P49"
      },
      "execution_count": 6,
      "outputs": []
    },
    {
      "cell_type": "markdown",
      "source": [
        "# Agora vem o processamento propriamente dito\n",
        "\n",
        "\n",
        "1.   o Map transforma cada entrada em um item no RDD de saida\n",
        "  - para cada palvara associa-se o valor 1 (palavra,1) pairRDD\n",
        "\n",
        "2.   o paiRDD é uma composição (key,value)\n",
        "   - o reduceBykey vai fazer com que todas as chaves de mesmo valo sejam enviadas para um mesmo processo Reduce\n",
        "   - para cada chave a função lambda tem a) acumulador, b) novo valor na lista\n",
        "   assim vão se somar todos os valores associados à mesma palavra\n",
        "\n"
      ],
      "metadata": {
        "id": "kH4QTvW24_3L"
      }
    },
    {
      "cell_type": "code",
      "source": [
        "wordCounts = words.map(lambda word: (word, 1)).reduceByKey(lambda a, b: a + b)"
      ],
      "metadata": {
        "id": "RkY760RN0eY-"
      },
      "execution_count": 7,
      "outputs": []
    },
    {
      "cell_type": "markdown",
      "source": [
        "# O collect é uma ação\n",
        " Ele faz com que o pipeline até aquele ponto seja executado\n",
        " retornando um valor com o conteúdo do RDD."
      ],
      "metadata": {
        "id": "S0-wV3aT5-dU"
      }
    },
    {
      "cell_type": "code",
      "source": [
        "wordCounts.collect()"
      ],
      "metadata": {
        "colab": {
          "base_uri": "https://localhost:8080/"
        },
        "id": "fPetDgbT0kzW",
        "outputId": "3b0e6c10-eb96-4cb9-9203-6529c6f8091f"
      },
      "execution_count": null,
      "outputs": [
        {
          "output_type": "execute_result",
          "data": {
            "text/plain": [
              "[('hours', 1),\n",
              " ('forecast', 3),\n",
              " ('extreme', 9),\n",
              " ('is', 4),\n",
              " ('relevant', 2),\n",
              " ('research', 1),\n",
              " ('topic', 1),\n",
              " ('areas', 1),\n",
              " ('decision-making.', 1),\n",
              " ('large', 1),\n",
              " ('cities,', 1),\n",
              " ('as', 4),\n",
              " ('Janeiro,', 1),\n",
              " ('heavy', 2),\n",
              " ('precipitation', 1),\n",
              " ('have', 1),\n",
              " ('registered,', 1),\n",
              " ('during', 1),\n",
              " ('citizens', 1),\n",
              " ('mobility', 1),\n",
              " ('disruption,', 1),\n",
              " ('even', 1),\n",
              " ('deaths.', 1),\n",
              " ('single', 1),\n",
              " ('event,', 1),\n",
              " ('occurred', 1),\n",
              " ('in', 10),\n",
              " ('2011', 1),\n",
              " ('nearby', 1),\n",
              " ('town,', 1),\n",
              " ('claimed', 1),\n",
              " ('of', 18),\n",
              " ('more', 2),\n",
              " ('than', 1),\n",
              " ('900', 1),\n",
              " ('people.', 1),\n",
              " ('climate', 1),\n",
              " ('change', 1),\n",
              " ('become', 1),\n",
              " ('this', 1),\n",
              " ('are', 1),\n",
              " ('likely', 1),\n",
              " ('Despite', 1),\n",
              " ('efforts', 1),\n",
              " ('improve', 3),\n",
              " ('results', 2),\n",
              " ('Center', 1),\n",
              " ('department', 1),\n",
              " ('responsible', 1),\n",
              " ('alerts', 2),\n",
              " ('needs', 1),\n",
              " ('improvements.', 1),\n",
              " ('2019', 2),\n",
              " ('internal', 1),\n",
              " ('study,', 1),\n",
              " ('da', 4),\n",
              " ('Silva', 1),\n",
              " ('rain', 3),\n",
              " ('alerts,', 1),\n",
              " ('May', 1),\n",
              " ('2019,', 1),\n",
              " ('COR', 4),\n",
              " ('rain},', 1),\n",
              " ('only', 1),\n",
              " ('materialize', 1),\n",
              " ('35%', 1),\n",
              " ('these', 1),\n",
              " ('corresponded', 1),\n",
              " ('actual', 1),\n",
              " ('no', 2),\n",
              " ('observed.', 1),\n",
              " ('Conversely,', 1),\n",
              " ('moderate', 1),\n",
              " ('rain,', 1),\n",
              " ('49%', 1),\n",
              " ('faced', 1),\n",
              " ('rain.', 1),\n",
              " ('there', 1),\n",
              " ('clear', 1),\n",
              " ('weather', 5),\n",
              " ('areas,', 1),\n",
              " ('particular', 1),\n",
              " ('city.', 1),\n",
              " ('approach', 1),\n",
              " ('involves', 1),\n",
              " ('interpretation', 1),\n",
              " ('predictions', 1),\n",
              " ('(NWPs),', 1),\n",
              " ('as:', 1),\n",
              " ('COSMO', 1),\n",
              " ('Weather', 1),\n",
              " ('Research', 1),\n",
              " ('Forecasting', 1),\n",
              " ('(WRF)', 1),\n",
              " ('model', 1),\n",
              " ('electromagnetic', 1),\n",
              " ('other', 1),\n",
              " ('', 20),\n",
              " ('related', 1),\n",
              " ('sensors.', 1),\n",
              " ('The', 3),\n",
              " ('goal', 2),\n",
              " ('project', 4),\n",
              " ('assumes', 1),\n",
              " ('following', 1),\n",
              " ('objectives:', 1),\n",
              " ('capture', 1),\n",
              " ('prepare', 1),\n",
              " ('training', 1),\n",
              " ('predictive', 1),\n",
              " ('techniques,', 1),\n",
              " ('algorithms', 1),\n",
              " ('make', 1),\n",
              " ('platform', 1),\n",
              " ('used', 1),\n",
              " ('predicting', 1),\n",
              " ('form', 1),\n",
              " ('human', 1),\n",
              " ('resources', 1),\n",
              " ('theme', 1),\n",
              " ('Expected', 1),\n",
              " ('economic,', 1),\n",
              " ('vital', 1),\n",
              " ('demand', 1),\n",
              " ('accurate', 1),\n",
              " ('prediction', 1),\n",
              " ('action', 1),\n",
              " ('warnings', 1),\n",
              " ('community.', 1),\n",
              " ('development', 1),\n",
              " ('tools', 1),\n",
              " ('high', 1),\n",
              " ('potential', 1),\n",
              " ('benefits', 1),\n",
              " ('socio-economic', 1),\n",
              " ('created', 1),\n",
              " ('integrated', 1),\n",
              " ('dissemination', 1),\n",
              " ('systems', 1),\n",
              " ('quick', 1),\n",
              " ('dispatch', 1),\n",
              " ('disaster', 1),\n",
              " ('response', 1),\n",
              " ('units.', 1),\n",
              " ('3.1.', 1),\n",
              " ('Plan', 1),\n",
              " ('objectives', 1),\n",
              " ('activities', 1),\n",
              " ('tasks', 1),\n",
              " ('deliverables', 1),\n",
              " ('Preparação', 1),\n",
              " ('proposta', 1),\n",
              " ('para', 2),\n",
              " ('do', 2),\n",
              " ('Santos', 1),\n",
              " ('sobre', 2),\n",
              " ('os', 1),\n",
              " ('Levantamento', 1),\n",
              " ('Estado', 1),\n",
              " ('dados', 6),\n",
              " ('construção', 2),\n",
              " ('acesso', 2),\n",
              " ('às', 1),\n",
              " ('diferentes', 1),\n",
              " ('fontes', 2),\n",
              " ('desenvolvimento', 1),\n",
              " ('Organização', 2),\n",
              " ('em', 1),\n",
              " ('um', 1),\n",
              " ('Lake', 1),\n",
              " ('coletados', 1),\n",
              " ('curadoria', 1),\n",
              " ('modelos', 2),\n",
              " ('Concepção', 1),\n",
              " ('Validação', 1),\n",
              " ('especialistas', 1),\n",
              " ('científicos', 1),\n",
              " ('b', 1),\n",
              " ('científico;', 1),\n",
              " ('c', 1),\n",
              " ('Visita', 1),\n",
              " ('técnica)', 1),\n",
              " ('tarefa', 2),\n",
              " ('programático', 1),\n",
              " ('dados;', 1),\n",
              " ('terá', 1),\n",
              " ('organização', 1),\n",
              " ('grupo', 1),\n",
              " ('pesquisa', 1),\n",
              " ('Precipitation', 1),\n",
              " ('nowcasting,', 1),\n",
              " ('a', 9),\n",
              " ('few', 1),\n",
              " ('ahead', 1),\n",
              " ('for', 8),\n",
              " ('rainfall', 4),\n",
              " ('events,', 3),\n",
              " ('with', 2),\n",
              " ('important', 1),\n",
              " ('impact', 1),\n",
              " ('on', 4),\n",
              " ('urban', 2),\n",
              " ('monitoring', 1),\n",
              " ('In', 2),\n",
              " ('such', 3),\n",
              " ('Rio', 5),\n",
              " ('de', 21),\n",
              " ('events', 6),\n",
              " ('been', 1),\n",
              " ('specially', 1),\n",
              " ('summer,', 1),\n",
              " ('causing', 1),\n",
              " ('property', 1),\n",
              " ('damage,', 1),\n",
              " ('and', 13),\n",
              " ('A', 3),\n",
              " ('Janeiro', 2),\n",
              " ('the', 24),\n",
              " ('lives', 1),\n",
              " ('As', 1),\n",
              " ('effects', 1),\n",
              " ('stronger,', 1),\n",
              " ('frequent', 1),\n",
              " ('episodes', 1),\n",
              " ('to', 16),\n",
              " ('be', 5),\n",
              " ('observed', 1),\n",
              " ('[1].', 1),\n",
              " ('dispensed', 1),\n",
              " ('strong', 1),\n",
              " ('accuracy,', 1),\n",
              " ('Operation', 1),\n",
              " ('(COR),', 1),\n",
              " ('municipality', 1),\n",
              " ('throwing', 1),\n",
              " ('[2]', 1),\n",
              " ('analyzed', 1),\n",
              " ('168', 1),\n",
              " ('from', 2),\n",
              " ('February', 1),\n",
              " ('emitted', 2),\n",
              " ('by', 5),\n",
              " ('COR.', 1),\n",
              " ('On', 1),\n",
              " ('total', 2),\n",
              " ('forecasts', 3),\n",
              " ('classified', 1),\n",
              " ('\\\\emph{strong', 1),\n",
              " ('12%', 1),\n",
              " ('did', 1),\n",
              " ('such.', 1),\n",
              " ('More', 1),\n",
              " ('interestingly,', 1),\n",
              " ('considering', 1),\n",
              " ('had', 1),\n",
              " ('2%', 1),\n",
              " ('Thus,', 1),\n",
              " ('need', 1),\n",
              " ('Current', 1),\n",
              " ('followed', 1),\n",
              " ('meteorologists', 1),\n",
              " ('numerical', 1),\n",
              " ('follow-up', 1),\n",
              " ('radar', 1),\n",
              " ('images,', 1),\n",
              " ('discharge', 1),\n",
              " ('meteorology', 1),\n",
              " ('Objectives', 1),\n",
              " ('develop', 1),\n",
              " ('AI', 3),\n",
              " ('models', 3),\n",
              " ('assertivity', 1),\n",
              " ('city', 1),\n",
              " ('Janeiro.', 1),\n",
              " ('This', 1),\n",
              " ('addressing', 1),\n",
              " ('data', 3),\n",
              " ('conceive', 1),\n",
              " ('methods', 1),\n",
              " ('learn', 1),\n",
              " ('available', 1),\n",
              " ('services', 1),\n",
              " ('2.1.', 1),\n",
              " ('impacts', 1),\n",
              " ('(scientific,', 1),\n",
              " ('social)', 1),\n",
              " ('There', 1),\n",
              " ('reliable', 1),\n",
              " ('information', 3),\n",
              " ('appropriate', 1),\n",
              " ('timely', 1),\n",
              " ('Hence,', 1),\n",
              " ('advanced', 1),\n",
              " ('forecasting', 1),\n",
              " ('has', 1),\n",
              " ('terms.', 1),\n",
              " ('technologies', 1),\n",
              " ('can', 1),\n",
              " ('Implementation', 1),\n",
              " ('Work', 1),\n",
              " ('will', 1),\n",
              " ('achieved', 1),\n",
              " ('through', 1),\n",
              " ('organized', 1),\n",
              " ('uso', 1),\n",
              " ('Dumont', 1),\n",
              " ('Estudo', 1),\n",
              " ('eventos', 1),\n",
              " ('extremos', 1),\n",
              " ('na', 1),\n",
              " ('cidade', 1),\n",
              " ('o', 1),\n",
              " ('Arte', 1),\n",
              " ('Coleta', 1),\n",
              " ('e', 4),\n",
              " ('API', 1),\n",
              " ('relevantes', 1),\n",
              " ('((a)', 1),\n",
              " ('API,', 1),\n",
              " ('(b)', 1),\n",
              " ('coleta', 1),\n",
              " ('dados).', 1),\n",
              " ('dos', 6),\n",
              " ('Data', 1),\n",
              " ('Pre-processamento', 1),\n",
              " ('criação', 1),\n",
              " ('tensores', 1),\n",
              " ('Análise', 1),\n",
              " ('exploratória', 1),\n",
              " ('Experimentação', 2),\n",
              " ('com', 1),\n",
              " ('já', 1),\n",
              " ('concebidos', 1),\n",
              " ('novas', 1),\n",
              " ('abordagens', 1),\n",
              " ('aprendizado', 1),\n",
              " ('teste', 1),\n",
              " ('novos', 1),\n",
              " ('resultados', 2),\n",
              " ('por', 1),\n",
              " ('Escrita', 1),\n",
              " ('artigos', 1),\n",
              " ('Eventos', 1),\n",
              " ('Divulgação', 1),\n",
              " ('(a', 1),\n",
              " ('→', 3),\n",
              " ('Hackathon;', 1),\n",
              " ('Workshop', 1),\n",
              " ('Transferência', 1),\n",
              " ('avaliação', 1),\n",
              " ('operacional', 1),\n",
              " ('Observações:', 1),\n",
              " ('A4(a)', 1),\n",
              " ('depende', 1),\n",
              " ('disponibilização', 1),\n",
              " ('fonte', 1),\n",
              " ('A13', 1),\n",
              " ('pelo', 2)]"
            ]
          },
          "metadata": {},
          "execution_count": 24
        }
      ]
    }
  ]
}