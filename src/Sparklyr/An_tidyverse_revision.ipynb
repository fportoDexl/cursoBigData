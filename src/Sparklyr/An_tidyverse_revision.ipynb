{
  "cells": [
    {
      "cell_type": "markdown",
      "id": "7815d2f1",
      "metadata": {
        "id": "7815d2f1"
      },
      "source": [
        "Uma das apis do spark na linguagem R se utiliza da interface do dplyr, biblioteca do tidyverse para construção de queries que torna o processo de analise mais similar a estrutura do SQL ja discutido em cursos anteriores, primeiramente façamos uma revisão do pacote dplyr"
      ]
    },
    {
      "cell_type": "code",
      "execution_count": null,
      "id": "50c43816",
      "metadata": {
        "colab": {
          "base_uri": "https://localhost:8080/"
        },
        "id": "50c43816",
        "outputId": "ad61a9e8-0879-45eb-965a-096cfa611ae9"
      },
      "outputs": [
        {
          "output_type": "stream",
          "name": "stderr",
          "text": [
            "Loading required package: dplyr\n",
            "\n",
            "\n",
            "Attaching package: ‘dplyr’\n",
            "\n",
            "\n",
            "The following objects are masked from ‘package:stats’:\n",
            "\n",
            "    filter, lag\n",
            "\n",
            "\n",
            "The following objects are masked from ‘package:base’:\n",
            "\n",
            "    intersect, setdiff, setequal, union\n",
            "\n",
            "\n"
          ]
        }
      ],
      "source": [
        "require(dplyr) #Importando a biblioteca\n"
      ]
    },
    {
      "cell_type": "markdown",
      "source": [
        "Para saber sobre a biblioteca podemos executar o seguinte comando e assim obter mais informações"
      ],
      "metadata": {
        "id": "pxkqOmXCoMn3"
      },
      "id": "pxkqOmXCoMn3"
    },
    {
      "cell_type": "code",
      "source": [
        "?dplyr"
      ],
      "metadata": {
        "id": "mTKt7JGsnm8W"
      },
      "id": "mTKt7JGsnm8W",
      "execution_count": null,
      "outputs": []
    },
    {
      "cell_type": "markdown",
      "source": [
        "A linguagem SQL possui diversos comandos entre esses:\n",
        "\n",
        "- select \n",
        "- where\n",
        "- group by\n",
        "- sort\n",
        "\n",
        "Estes mesmos comandos são oferecidos na biblioteca dplyr, mantendo assim a seguinte equivalencia\n",
        "\n",
        "- select\n",
        "- filter\n",
        "- group_by\n",
        "- arrange\n",
        "\n",
        "Entre outros comandos como mutate para adicionar novas colunas, ou summarize quando se quer aplicar operações sobre agrupamentos\n",
        "\n",
        "A seguir mostramos alguns exemplos de como realizar diversas consultas sobre uma base de dados\n",
        "\n"
      ],
      "metadata": {
        "id": "D3Gekgh7oUVI"
      },
      "id": "D3Gekgh7oUVI"
    },
    {
      "cell_type": "markdown",
      "source": [
        "A Base:\n",
        "\n",
        "Já apresentada no curso de aprendizado de maquina, a base de dados iris é uma base com descrições sobre especies de plantas contendo 4 atributos descritores destes. No ambiente R este dataset ja vem carregado então observemos este"
      ],
      "metadata": {
        "id": "5o2-WBFZvifi"
      },
      "id": "5o2-WBFZvifi"
    },
    {
      "cell_type": "code",
      "execution_count": null,
      "id": "3a8387f5",
      "metadata": {
        "colab": {
          "base_uri": "https://localhost:8080/",
          "height": 286
        },
        "id": "3a8387f5",
        "outputId": "a0a90d0b-8bc5-403d-80e1-8413afbbd536"
      },
      "outputs": [
        {
          "output_type": "display_data",
          "data": {
            "text/html": [
              "<table class=\"dataframe\">\n",
              "<caption>A data.frame: 6 × 5</caption>\n",
              "<thead>\n",
              "\t<tr><th></th><th scope=col>Sepal.Length</th><th scope=col>Sepal.Width</th><th scope=col>Petal.Length</th><th scope=col>Petal.Width</th><th scope=col>Species</th></tr>\n",
              "\t<tr><th></th><th scope=col>&lt;dbl&gt;</th><th scope=col>&lt;dbl&gt;</th><th scope=col>&lt;dbl&gt;</th><th scope=col>&lt;dbl&gt;</th><th scope=col>&lt;fct&gt;</th></tr>\n",
              "</thead>\n",
              "<tbody>\n",
              "\t<tr><th scope=row>1</th><td>5.1</td><td>3.5</td><td>1.4</td><td>0.2</td><td>setosa</td></tr>\n",
              "\t<tr><th scope=row>2</th><td>4.9</td><td>3.0</td><td>1.4</td><td>0.2</td><td>setosa</td></tr>\n",
              "\t<tr><th scope=row>3</th><td>4.7</td><td>3.2</td><td>1.3</td><td>0.2</td><td>setosa</td></tr>\n",
              "\t<tr><th scope=row>4</th><td>4.6</td><td>3.1</td><td>1.5</td><td>0.2</td><td>setosa</td></tr>\n",
              "\t<tr><th scope=row>5</th><td>5.0</td><td>3.6</td><td>1.4</td><td>0.2</td><td>setosa</td></tr>\n",
              "\t<tr><th scope=row>6</th><td>5.4</td><td>3.9</td><td>1.7</td><td>0.4</td><td>setosa</td></tr>\n",
              "</tbody>\n",
              "</table>\n"
            ],
            "text/markdown": "\nA data.frame: 6 × 5\n\n| <!--/--> | Sepal.Length &lt;dbl&gt; | Sepal.Width &lt;dbl&gt; | Petal.Length &lt;dbl&gt; | Petal.Width &lt;dbl&gt; | Species &lt;fct&gt; |\n|---|---|---|---|---|---|\n| 1 | 5.1 | 3.5 | 1.4 | 0.2 | setosa |\n| 2 | 4.9 | 3.0 | 1.4 | 0.2 | setosa |\n| 3 | 4.7 | 3.2 | 1.3 | 0.2 | setosa |\n| 4 | 4.6 | 3.1 | 1.5 | 0.2 | setosa |\n| 5 | 5.0 | 3.6 | 1.4 | 0.2 | setosa |\n| 6 | 5.4 | 3.9 | 1.7 | 0.4 | setosa |\n\n",
            "text/latex": "A data.frame: 6 × 5\n\\begin{tabular}{r|lllll}\n  & Sepal.Length & Sepal.Width & Petal.Length & Petal.Width & Species\\\\\n  & <dbl> & <dbl> & <dbl> & <dbl> & <fct>\\\\\n\\hline\n\t1 & 5.1 & 3.5 & 1.4 & 0.2 & setosa\\\\\n\t2 & 4.9 & 3.0 & 1.4 & 0.2 & setosa\\\\\n\t3 & 4.7 & 3.2 & 1.3 & 0.2 & setosa\\\\\n\t4 & 4.6 & 3.1 & 1.5 & 0.2 & setosa\\\\\n\t5 & 5.0 & 3.6 & 1.4 & 0.2 & setosa\\\\\n\t6 & 5.4 & 3.9 & 1.7 & 0.4 & setosa\\\\\n\\end{tabular}\n",
            "text/plain": [
              "  Sepal.Length Sepal.Width Petal.Length Petal.Width Species\n",
              "1 5.1          3.5         1.4          0.2         setosa \n",
              "2 4.9          3.0         1.4          0.2         setosa \n",
              "3 4.7          3.2         1.3          0.2         setosa \n",
              "4 4.6          3.1         1.5          0.2         setosa \n",
              "5 5.0          3.6         1.4          0.2         setosa \n",
              "6 5.4          3.9         1.7          0.4         setosa "
            ]
          },
          "metadata": {}
        }
      ],
      "source": [
        "head(iris)"
      ]
    },
    {
      "cell_type": "markdown",
      "source": [
        "Um comando conhecido do SQL é o SELECT, normalmente estruturado da forma SELECT atributos from tabela.\n",
        "\n",
        "Na sintaxe dplyr, podemos escrever isto de forma funcional, que seria:\n",
        "\n",
        "- select(Tabela,atributos)\n",
        "\n",
        "Ou utilizando o operador %>%, este indica que o que vem a esquerda deve ser passado como argumento pro que vem a direita.\n",
        "\n",
        "A motivação deste operador é criar um codigo mais parecido com SQL em sua leitura.\n",
        "\n",
        "Por exemplo selecionemos apenas os atributos Sepal.Length,Sepal.Width e Species"
      ],
      "metadata": {
        "id": "hBC7eqRH1SOB"
      },
      "id": "hBC7eqRH1SOB"
    },
    {
      "cell_type": "markdown",
      "source": [
        "Na forma funcional"
      ],
      "metadata": {
        "id": "XLI9mY6E2aB0"
      },
      "id": "XLI9mY6E2aB0"
    },
    {
      "cell_type": "code",
      "source": [
        "head(select(iris,Sepal.Length,Sepal.Width,Species))"
      ],
      "metadata": {
        "colab": {
          "base_uri": "https://localhost:8080/",
          "height": 286
        },
        "id": "nyf8Idbz1PTF",
        "outputId": "262181e0-292e-4d4c-bd54-199fe458b395"
      },
      "id": "nyf8Idbz1PTF",
      "execution_count": null,
      "outputs": [
        {
          "output_type": "display_data",
          "data": {
            "text/html": [
              "<table class=\"dataframe\">\n",
              "<caption>A data.frame: 6 × 3</caption>\n",
              "<thead>\n",
              "\t<tr><th></th><th scope=col>Sepal.Length</th><th scope=col>Sepal.Width</th><th scope=col>Species</th></tr>\n",
              "\t<tr><th></th><th scope=col>&lt;dbl&gt;</th><th scope=col>&lt;dbl&gt;</th><th scope=col>&lt;fct&gt;</th></tr>\n",
              "</thead>\n",
              "<tbody>\n",
              "\t<tr><th scope=row>1</th><td>5.1</td><td>3.5</td><td>setosa</td></tr>\n",
              "\t<tr><th scope=row>2</th><td>4.9</td><td>3.0</td><td>setosa</td></tr>\n",
              "\t<tr><th scope=row>3</th><td>4.7</td><td>3.2</td><td>setosa</td></tr>\n",
              "\t<tr><th scope=row>4</th><td>4.6</td><td>3.1</td><td>setosa</td></tr>\n",
              "\t<tr><th scope=row>5</th><td>5.0</td><td>3.6</td><td>setosa</td></tr>\n",
              "\t<tr><th scope=row>6</th><td>5.4</td><td>3.9</td><td>setosa</td></tr>\n",
              "</tbody>\n",
              "</table>\n"
            ],
            "text/markdown": "\nA data.frame: 6 × 3\n\n| <!--/--> | Sepal.Length &lt;dbl&gt; | Sepal.Width &lt;dbl&gt; | Species &lt;fct&gt; |\n|---|---|---|---|\n| 1 | 5.1 | 3.5 | setosa |\n| 2 | 4.9 | 3.0 | setosa |\n| 3 | 4.7 | 3.2 | setosa |\n| 4 | 4.6 | 3.1 | setosa |\n| 5 | 5.0 | 3.6 | setosa |\n| 6 | 5.4 | 3.9 | setosa |\n\n",
            "text/latex": "A data.frame: 6 × 3\n\\begin{tabular}{r|lll}\n  & Sepal.Length & Sepal.Width & Species\\\\\n  & <dbl> & <dbl> & <fct>\\\\\n\\hline\n\t1 & 5.1 & 3.5 & setosa\\\\\n\t2 & 4.9 & 3.0 & setosa\\\\\n\t3 & 4.7 & 3.2 & setosa\\\\\n\t4 & 4.6 & 3.1 & setosa\\\\\n\t5 & 5.0 & 3.6 & setosa\\\\\n\t6 & 5.4 & 3.9 & setosa\\\\\n\\end{tabular}\n",
            "text/plain": [
              "  Sepal.Length Sepal.Width Species\n",
              "1 5.1          3.5         setosa \n",
              "2 4.9          3.0         setosa \n",
              "3 4.7          3.2         setosa \n",
              "4 4.6          3.1         setosa \n",
              "5 5.0          3.6         setosa \n",
              "6 5.4          3.9         setosa "
            ]
          },
          "metadata": {}
        }
      ]
    },
    {
      "cell_type": "markdown",
      "source": [
        "Na forma SQL-Like"
      ],
      "metadata": {
        "id": "VtfJSWzC2elD"
      },
      "id": "VtfJSWzC2elD"
    },
    {
      "cell_type": "code",
      "source": [
        "iris %>%\n",
        " select(Sepal.Length,Sepal.Width,Species) %>%\n",
        " head()"
      ],
      "metadata": {
        "colab": {
          "base_uri": "https://localhost:8080/",
          "height": 286
        },
        "id": "HjkisVye2Ji3",
        "outputId": "f58bf0b7-318f-4396-9912-7fb490658575"
      },
      "id": "HjkisVye2Ji3",
      "execution_count": null,
      "outputs": [
        {
          "output_type": "display_data",
          "data": {
            "text/html": [
              "<table class=\"dataframe\">\n",
              "<caption>A data.frame: 6 × 3</caption>\n",
              "<thead>\n",
              "\t<tr><th></th><th scope=col>Sepal.Length</th><th scope=col>Sepal.Width</th><th scope=col>Species</th></tr>\n",
              "\t<tr><th></th><th scope=col>&lt;dbl&gt;</th><th scope=col>&lt;dbl&gt;</th><th scope=col>&lt;fct&gt;</th></tr>\n",
              "</thead>\n",
              "<tbody>\n",
              "\t<tr><th scope=row>1</th><td>5.1</td><td>3.5</td><td>setosa</td></tr>\n",
              "\t<tr><th scope=row>2</th><td>4.9</td><td>3.0</td><td>setosa</td></tr>\n",
              "\t<tr><th scope=row>3</th><td>4.7</td><td>3.2</td><td>setosa</td></tr>\n",
              "\t<tr><th scope=row>4</th><td>4.6</td><td>3.1</td><td>setosa</td></tr>\n",
              "\t<tr><th scope=row>5</th><td>5.0</td><td>3.6</td><td>setosa</td></tr>\n",
              "\t<tr><th scope=row>6</th><td>5.4</td><td>3.9</td><td>setosa</td></tr>\n",
              "</tbody>\n",
              "</table>\n"
            ],
            "text/markdown": "\nA data.frame: 6 × 3\n\n| <!--/--> | Sepal.Length &lt;dbl&gt; | Sepal.Width &lt;dbl&gt; | Species &lt;fct&gt; |\n|---|---|---|---|\n| 1 | 5.1 | 3.5 | setosa |\n| 2 | 4.9 | 3.0 | setosa |\n| 3 | 4.7 | 3.2 | setosa |\n| 4 | 4.6 | 3.1 | setosa |\n| 5 | 5.0 | 3.6 | setosa |\n| 6 | 5.4 | 3.9 | setosa |\n\n",
            "text/latex": "A data.frame: 6 × 3\n\\begin{tabular}{r|lll}\n  & Sepal.Length & Sepal.Width & Species\\\\\n  & <dbl> & <dbl> & <fct>\\\\\n\\hline\n\t1 & 5.1 & 3.5 & setosa\\\\\n\t2 & 4.9 & 3.0 & setosa\\\\\n\t3 & 4.7 & 3.2 & setosa\\\\\n\t4 & 4.6 & 3.1 & setosa\\\\\n\t5 & 5.0 & 3.6 & setosa\\\\\n\t6 & 5.4 & 3.9 & setosa\\\\\n\\end{tabular}\n",
            "text/plain": [
              "  Sepal.Length Sepal.Width Species\n",
              "1 5.1          3.5         setosa \n",
              "2 4.9          3.0         setosa \n",
              "3 4.7          3.2         setosa \n",
              "4 4.6          3.1         setosa \n",
              "5 5.0          3.6         setosa \n",
              "6 5.4          3.9         setosa "
            ]
          },
          "metadata": {}
        }
      ]
    },
    {
      "cell_type": "markdown",
      "source": [
        "Vendo então que ambos os metodos geram os mesmos resultados, se torna questão de preferencia como construir o codigo. Podemos deixar esta query bem mais complexa, por exemplo calculemos uma nova variavel, esta é a razão entre Sepal.Length e Sepal.Width. Chamemos esta de Sepal.Ratio"
      ],
      "metadata": {
        "id": "0PTm8BJd2oYu"
      },
      "id": "0PTm8BJd2oYu"
    },
    {
      "cell_type": "code",
      "source": [
        "iris %>%\n",
        " select(Sepal.Length,Sepal.Width,Species) %>%\n",
        " mutate(Sepal.Ratio=Sepal.Length/Sepal.Width) %>%\n",
        " head()"
      ],
      "metadata": {
        "colab": {
          "base_uri": "https://localhost:8080/",
          "height": 286
        },
        "id": "XVnQD35n2PaQ",
        "outputId": "429debf2-e03a-411f-b0f0-d0c6c9022958"
      },
      "id": "XVnQD35n2PaQ",
      "execution_count": null,
      "outputs": [
        {
          "output_type": "display_data",
          "data": {
            "text/html": [
              "<table class=\"dataframe\">\n",
              "<caption>A data.frame: 6 × 4</caption>\n",
              "<thead>\n",
              "\t<tr><th></th><th scope=col>Sepal.Length</th><th scope=col>Sepal.Width</th><th scope=col>Species</th><th scope=col>Sepal.Ratio</th></tr>\n",
              "\t<tr><th></th><th scope=col>&lt;dbl&gt;</th><th scope=col>&lt;dbl&gt;</th><th scope=col>&lt;fct&gt;</th><th scope=col>&lt;dbl&gt;</th></tr>\n",
              "</thead>\n",
              "<tbody>\n",
              "\t<tr><th scope=row>1</th><td>5.1</td><td>3.5</td><td>setosa</td><td>1.457143</td></tr>\n",
              "\t<tr><th scope=row>2</th><td>4.9</td><td>3.0</td><td>setosa</td><td>1.633333</td></tr>\n",
              "\t<tr><th scope=row>3</th><td>4.7</td><td>3.2</td><td>setosa</td><td>1.468750</td></tr>\n",
              "\t<tr><th scope=row>4</th><td>4.6</td><td>3.1</td><td>setosa</td><td>1.483871</td></tr>\n",
              "\t<tr><th scope=row>5</th><td>5.0</td><td>3.6</td><td>setosa</td><td>1.388889</td></tr>\n",
              "\t<tr><th scope=row>6</th><td>5.4</td><td>3.9</td><td>setosa</td><td>1.384615</td></tr>\n",
              "</tbody>\n",
              "</table>\n"
            ],
            "text/markdown": "\nA data.frame: 6 × 4\n\n| <!--/--> | Sepal.Length &lt;dbl&gt; | Sepal.Width &lt;dbl&gt; | Species &lt;fct&gt; | Sepal.Ratio &lt;dbl&gt; |\n|---|---|---|---|---|\n| 1 | 5.1 | 3.5 | setosa | 1.457143 |\n| 2 | 4.9 | 3.0 | setosa | 1.633333 |\n| 3 | 4.7 | 3.2 | setosa | 1.468750 |\n| 4 | 4.6 | 3.1 | setosa | 1.483871 |\n| 5 | 5.0 | 3.6 | setosa | 1.388889 |\n| 6 | 5.4 | 3.9 | setosa | 1.384615 |\n\n",
            "text/latex": "A data.frame: 6 × 4\n\\begin{tabular}{r|llll}\n  & Sepal.Length & Sepal.Width & Species & Sepal.Ratio\\\\\n  & <dbl> & <dbl> & <fct> & <dbl>\\\\\n\\hline\n\t1 & 5.1 & 3.5 & setosa & 1.457143\\\\\n\t2 & 4.9 & 3.0 & setosa & 1.633333\\\\\n\t3 & 4.7 & 3.2 & setosa & 1.468750\\\\\n\t4 & 4.6 & 3.1 & setosa & 1.483871\\\\\n\t5 & 5.0 & 3.6 & setosa & 1.388889\\\\\n\t6 & 5.4 & 3.9 & setosa & 1.384615\\\\\n\\end{tabular}\n",
            "text/plain": [
              "  Sepal.Length Sepal.Width Species Sepal.Ratio\n",
              "1 5.1          3.5         setosa  1.457143   \n",
              "2 4.9          3.0         setosa  1.633333   \n",
              "3 4.7          3.2         setosa  1.468750   \n",
              "4 4.6          3.1         setosa  1.483871   \n",
              "5 5.0          3.6         setosa  1.388889   \n",
              "6 5.4          3.9         setosa  1.384615   "
            ]
          },
          "metadata": {}
        }
      ]
    },
    {
      "cell_type": "markdown",
      "source": [
        "Assim criamos uma nova coluna, poderiamos tambem selecionar todas as colunas menos algumas com o select utilizando o - na coluna. Por exemplo calculado a razão, não queremos mais as colunas Sepal Length e Sepal Width"
      ],
      "metadata": {
        "id": "9Z-6hmTu3hLA"
      },
      "id": "9Z-6hmTu3hLA"
    },
    {
      "cell_type": "code",
      "source": [
        "iris %>%\n",
        " select(Sepal.Length,Sepal.Width,Species) %>%\n",
        " mutate(Sepal.Ratio=Sepal.Length/Sepal.Width) %>%\n",
        " select(-Sepal.Length,-Sepal.Width) %>%\n",
        " head()"
      ],
      "metadata": {
        "colab": {
          "base_uri": "https://localhost:8080/",
          "height": 286
        },
        "id": "jiSrZHlP3enq",
        "outputId": "80bd4be4-7a4d-45e3-ae15-6ed382839630"
      },
      "id": "jiSrZHlP3enq",
      "execution_count": null,
      "outputs": [
        {
          "output_type": "display_data",
          "data": {
            "text/html": [
              "<table class=\"dataframe\">\n",
              "<caption>A data.frame: 6 × 2</caption>\n",
              "<thead>\n",
              "\t<tr><th></th><th scope=col>Species</th><th scope=col>Sepal.Ratio</th></tr>\n",
              "\t<tr><th></th><th scope=col>&lt;fct&gt;</th><th scope=col>&lt;dbl&gt;</th></tr>\n",
              "</thead>\n",
              "<tbody>\n",
              "\t<tr><th scope=row>1</th><td>setosa</td><td>1.457143</td></tr>\n",
              "\t<tr><th scope=row>2</th><td>setosa</td><td>1.633333</td></tr>\n",
              "\t<tr><th scope=row>3</th><td>setosa</td><td>1.468750</td></tr>\n",
              "\t<tr><th scope=row>4</th><td>setosa</td><td>1.483871</td></tr>\n",
              "\t<tr><th scope=row>5</th><td>setosa</td><td>1.388889</td></tr>\n",
              "\t<tr><th scope=row>6</th><td>setosa</td><td>1.384615</td></tr>\n",
              "</tbody>\n",
              "</table>\n"
            ],
            "text/markdown": "\nA data.frame: 6 × 2\n\n| <!--/--> | Species &lt;fct&gt; | Sepal.Ratio &lt;dbl&gt; |\n|---|---|---|\n| 1 | setosa | 1.457143 |\n| 2 | setosa | 1.633333 |\n| 3 | setosa | 1.468750 |\n| 4 | setosa | 1.483871 |\n| 5 | setosa | 1.388889 |\n| 6 | setosa | 1.384615 |\n\n",
            "text/latex": "A data.frame: 6 × 2\n\\begin{tabular}{r|ll}\n  & Species & Sepal.Ratio\\\\\n  & <fct> & <dbl>\\\\\n\\hline\n\t1 & setosa & 1.457143\\\\\n\t2 & setosa & 1.633333\\\\\n\t3 & setosa & 1.468750\\\\\n\t4 & setosa & 1.483871\\\\\n\t5 & setosa & 1.388889\\\\\n\t6 & setosa & 1.384615\\\\\n\\end{tabular}\n",
            "text/plain": [
              "  Species Sepal.Ratio\n",
              "1 setosa  1.457143   \n",
              "2 setosa  1.633333   \n",
              "3 setosa  1.468750   \n",
              "4 setosa  1.483871   \n",
              "5 setosa  1.388889   \n",
              "6 setosa  1.384615   "
            ]
          },
          "metadata": {}
        }
      ]
    },
    {
      "cell_type": "markdown",
      "source": [
        "O processo acima seria gerado a partir de um encadeamento de queries SQL, outros processos ja vistos nas aulas seriam o de agrupamentos, vemos como utilizar a função group_by e summarize para calcular a media da variavel Sepal.Ratio para cada especie"
      ],
      "metadata": {
        "id": "GvPG9bhY4SKX"
      },
      "id": "GvPG9bhY4SKX"
    },
    {
      "cell_type": "code",
      "source": [
        "iris %>%\n",
        " select(Sepal.Length,Sepal.Width,Species) %>%\n",
        " mutate(Sepal.Ratio=Sepal.Length/Sepal.Width) %>%\n",
        " select(-Sepal.Length,-Sepal.Width) %>%\n",
        " group_by(Species) %>%\n",
        " summarise(Sepal.Ratio=mean(Sepal.Ratio)) %>%\n",
        " head()"
      ],
      "metadata": {
        "colab": {
          "base_uri": "https://localhost:8080/",
          "height": 192
        },
        "id": "p7LpFSBt4QBR",
        "outputId": "1cfd0979-058f-4f6e-fe6b-4f2eaad8b3ef"
      },
      "id": "p7LpFSBt4QBR",
      "execution_count": null,
      "outputs": [
        {
          "output_type": "display_data",
          "data": {
            "text/html": [
              "<table class=\"dataframe\">\n",
              "<caption>A tibble: 3 × 2</caption>\n",
              "<thead>\n",
              "\t<tr><th scope=col>Species</th><th scope=col>Sepal.Ratio</th></tr>\n",
              "\t<tr><th scope=col>&lt;fct&gt;</th><th scope=col>&lt;dbl&gt;</th></tr>\n",
              "</thead>\n",
              "<tbody>\n",
              "\t<tr><td>setosa    </td><td>1.470188</td></tr>\n",
              "\t<tr><td>versicolor</td><td>2.160402</td></tr>\n",
              "\t<tr><td>virginica </td><td>2.230453</td></tr>\n",
              "</tbody>\n",
              "</table>\n"
            ],
            "text/markdown": "\nA tibble: 3 × 2\n\n| Species &lt;fct&gt; | Sepal.Ratio &lt;dbl&gt; |\n|---|---|\n| setosa     | 1.470188 |\n| versicolor | 2.160402 |\n| virginica  | 2.230453 |\n\n",
            "text/latex": "A tibble: 3 × 2\n\\begin{tabular}{ll}\n Species & Sepal.Ratio\\\\\n <fct> & <dbl>\\\\\n\\hline\n\t setosa     & 1.470188\\\\\n\t versicolor & 2.160402\\\\\n\t virginica  & 2.230453\\\\\n\\end{tabular}\n",
            "text/plain": [
              "  Species    Sepal.Ratio\n",
              "1 setosa     1.470188   \n",
              "2 versicolor 2.160402   \n",
              "3 virginica  2.230453   "
            ]
          },
          "metadata": {}
        }
      ]
    },
    {
      "cell_type": "markdown",
      "source": [
        "O mesmo calculo poderia ter sido feito sem grupo, e neste caso calculariamos a media considerando todas as especies"
      ],
      "metadata": {
        "id": "HIGSHGzv5Lna"
      },
      "id": "HIGSHGzv5Lna"
    },
    {
      "cell_type": "code",
      "source": [
        "iris %>%\n",
        " select(Sepal.Length,Sepal.Width,Species) %>%\n",
        " mutate(Sepal.Ratio=Sepal.Length/Sepal.Width) %>%\n",
        " select(-Sepal.Length,-Sepal.Width) %>%\n",
        " summarise(Sepal.Ratio=mean(Sepal.Ratio)) %>%\n",
        " head()"
      ],
      "metadata": {
        "colab": {
          "base_uri": "https://localhost:8080/",
          "height": 130
        },
        "id": "7Z-TPyKw5D1C",
        "outputId": "c2f39fa2-ee70-4ca6-9716-f7fbd6763cc3"
      },
      "id": "7Z-TPyKw5D1C",
      "execution_count": null,
      "outputs": [
        {
          "output_type": "display_data",
          "data": {
            "text/html": [
              "<table class=\"dataframe\">\n",
              "<caption>A data.frame: 1 × 1</caption>\n",
              "<thead>\n",
              "\t<tr><th></th><th scope=col>Sepal.Ratio</th></tr>\n",
              "\t<tr><th></th><th scope=col>&lt;dbl&gt;</th></tr>\n",
              "</thead>\n",
              "<tbody>\n",
              "\t<tr><th scope=row>1</th><td>1.953681</td></tr>\n",
              "</tbody>\n",
              "</table>\n"
            ],
            "text/markdown": "\nA data.frame: 1 × 1\n\n| <!--/--> | Sepal.Ratio &lt;dbl&gt; |\n|---|---|\n| 1 | 1.953681 |\n\n",
            "text/latex": "A data.frame: 1 × 1\n\\begin{tabular}{r|l}\n  & Sepal.Ratio\\\\\n  & <dbl>\\\\\n\\hline\n\t1 & 1.953681\\\\\n\\end{tabular}\n",
            "text/plain": [
              "  Sepal.Ratio\n",
              "1 1.953681   "
            ]
          },
          "metadata": {}
        }
      ]
    },
    {
      "cell_type": "markdown",
      "source": [
        "Outro calculo simples é o de contagem, com a função count(), note que o select nem sempre é nescessario"
      ],
      "metadata": {
        "id": "w1fHXpFZCXAt"
      },
      "id": "w1fHXpFZCXAt"
    },
    {
      "cell_type": "code",
      "source": [
        "iris %>% group_by(Species) %>% count()"
      ],
      "metadata": {
        "colab": {
          "base_uri": "https://localhost:8080/",
          "height": 192
        },
        "id": "hZcok5O5Ce5u",
        "outputId": "60b6708b-ec7a-44b3-f4a5-2b3357c44222"
      },
      "id": "hZcok5O5Ce5u",
      "execution_count": null,
      "outputs": [
        {
          "output_type": "display_data",
          "data": {
            "text/html": [
              "<table class=\"dataframe\">\n",
              "<caption>A grouped_df: 3 × 2</caption>\n",
              "<thead>\n",
              "\t<tr><th scope=col>Species</th><th scope=col>n</th></tr>\n",
              "\t<tr><th scope=col>&lt;fct&gt;</th><th scope=col>&lt;int&gt;</th></tr>\n",
              "</thead>\n",
              "<tbody>\n",
              "\t<tr><td>setosa    </td><td>50</td></tr>\n",
              "\t<tr><td>versicolor</td><td>50</td></tr>\n",
              "\t<tr><td>virginica </td><td>50</td></tr>\n",
              "</tbody>\n",
              "</table>\n"
            ],
            "text/markdown": "\nA grouped_df: 3 × 2\n\n| Species &lt;fct&gt; | n &lt;int&gt; |\n|---|---|\n| setosa     | 50 |\n| versicolor | 50 |\n| virginica  | 50 |\n\n",
            "text/latex": "A grouped\\_df: 3 × 2\n\\begin{tabular}{ll}\n Species & n\\\\\n <fct> & <int>\\\\\n\\hline\n\t setosa     & 50\\\\\n\t versicolor & 50\\\\\n\t virginica  & 50\\\\\n\\end{tabular}\n",
            "text/plain": [
              "  Species    n \n",
              "1 setosa     50\n",
              "2 versicolor 50\n",
              "3 virginica  50"
            ]
          },
          "metadata": {}
        }
      ]
    },
    {
      "cell_type": "markdown",
      "source": [
        "Assim vemos que diversas das operações SQL vistas até agora podem ser executadas utilizando a sintaxe dplyr dentro do ecosistema R. Um motivo que pode estar interessado em se utilizar disto seria a facil integração de funções do ambiente R na construção de suas queries, por exemplo calculemos a correlação de pearson entre Sepal.Length e Petal Length para cada Especie"
      ],
      "metadata": {
        "id": "deTXrEJq5aBd"
      },
      "id": "deTXrEJq5aBd"
    },
    {
      "cell_type": "code",
      "source": [
        "iris %>% \n",
        "  select(Sepal.Length,Petal.Length,Species) %>%\n",
        "  group_by(Species) %>%\n",
        "  summarize(pearson=cor(Sepal.Length,Petal.Length))"
      ],
      "metadata": {
        "colab": {
          "base_uri": "https://localhost:8080/",
          "height": 192
        },
        "id": "kRohEh6h5WRz",
        "outputId": "ef3a2036-c042-47cb-8c28-f5673a23bb11"
      },
      "id": "kRohEh6h5WRz",
      "execution_count": null,
      "outputs": [
        {
          "output_type": "display_data",
          "data": {
            "text/html": [
              "<table class=\"dataframe\">\n",
              "<caption>A tibble: 3 × 2</caption>\n",
              "<thead>\n",
              "\t<tr><th scope=col>Species</th><th scope=col>pearson</th></tr>\n",
              "\t<tr><th scope=col>&lt;fct&gt;</th><th scope=col>&lt;dbl&gt;</th></tr>\n",
              "</thead>\n",
              "<tbody>\n",
              "\t<tr><td>setosa    </td><td>0.2671758</td></tr>\n",
              "\t<tr><td>versicolor</td><td>0.7540490</td></tr>\n",
              "\t<tr><td>virginica </td><td>0.8642247</td></tr>\n",
              "</tbody>\n",
              "</table>\n"
            ],
            "text/markdown": "\nA tibble: 3 × 2\n\n| Species &lt;fct&gt; | pearson &lt;dbl&gt; |\n|---|---|\n| setosa     | 0.2671758 |\n| versicolor | 0.7540490 |\n| virginica  | 0.8642247 |\n\n",
            "text/latex": "A tibble: 3 × 2\n\\begin{tabular}{ll}\n Species & pearson\\\\\n <fct> & <dbl>\\\\\n\\hline\n\t setosa     & 0.2671758\\\\\n\t versicolor & 0.7540490\\\\\n\t virginica  & 0.8642247\\\\\n\\end{tabular}\n",
            "text/plain": [
              "  Species    pearson  \n",
              "1 setosa     0.2671758\n",
              "2 versicolor 0.7540490\n",
              "3 virginica  0.8642247"
            ]
          },
          "metadata": {}
        }
      ]
    },
    {
      "cell_type": "markdown",
      "source": [
        "Assim vemos que enquanto estas variaveis são pouco relacionadas em setosa, a correlação é mais forte em versicolor e virginica.\n",
        "\n",
        "\n"
      ],
      "metadata": {
        "id": "fAXa_V4r6rcv"
      },
      "id": "fAXa_V4r6rcv"
    },
    {
      "cell_type": "markdown",
      "source": [
        "Por fim um outro atributo importance esta associado ao where do SQL, metodo usado para filtrar amostras dado um condicional. Na biblioteca dplyr o comando utilizado é o filter. Por exemplo qual o maior valor de Sepal.Length para petal length menor que 2"
      ],
      "metadata": {
        "id": "r_RTIhMc64Qf"
      },
      "id": "r_RTIhMc64Qf"
    },
    {
      "cell_type": "code",
      "source": [
        "iris %>%\n",
        "  select(Sepal.Length,Petal.Length) %>%\n",
        "  filter(Petal.Length<2) %>%\n",
        "  summarise(Maximo=max(Sepal.Length))"
      ],
      "metadata": {
        "colab": {
          "base_uri": "https://localhost:8080/",
          "height": 164
        },
        "id": "dPIsoyeM6cBe",
        "outputId": "0d2d99d5-6d14-46aa-e3b4-4e88370909cd"
      },
      "id": "dPIsoyeM6cBe",
      "execution_count": null,
      "outputs": [
        {
          "output_type": "display_data",
          "data": {
            "text/html": [
              "<table class=\"dataframe\">\n",
              "<caption>A data.frame: 1 × 1</caption>\n",
              "<thead>\n",
              "\t<tr><th scope=col>Maximo</th></tr>\n",
              "\t<tr><th scope=col>&lt;dbl&gt;</th></tr>\n",
              "</thead>\n",
              "<tbody>\n",
              "\t<tr><td>5.8</td></tr>\n",
              "</tbody>\n",
              "</table>\n"
            ],
            "text/markdown": "\nA data.frame: 1 × 1\n\n| Maximo &lt;dbl&gt; |\n|---|\n| 5.8 |\n\n",
            "text/latex": "A data.frame: 1 × 1\n\\begin{tabular}{l}\n Maximo\\\\\n <dbl>\\\\\n\\hline\n\t 5.8\\\\\n\\end{tabular}\n",
            "text/plain": [
              "  Maximo\n",
              "1 5.8   "
            ]
          },
          "metadata": {}
        }
      ]
    },
    {
      "cell_type": "markdown",
      "source": [
        "Ou me utilizando do ecosistema R, poderia por exemplo verificar se a media entre as colunas Sepal.Lenth e Petal.Length é diferente entre todas as especies que não são a setosa"
      ],
      "metadata": {
        "id": "urSobnNi7kKK"
      },
      "id": "urSobnNi7kKK"
    },
    {
      "cell_type": "code",
      "source": [
        "iris %>% \n",
        "filter(Species!='setosa') %>%\n",
        " group_by(Species) %>%\n",
        "  summarize( pvalor=t.test(Sepal.Length,Petal.Length)$p.value )"
      ],
      "metadata": {
        "colab": {
          "base_uri": "https://localhost:8080/",
          "height": 161
        },
        "id": "Wqa4LpKv8J8r",
        "outputId": "134ce84c-7ede-4e19-c91d-4772af57a599"
      },
      "id": "Wqa4LpKv8J8r",
      "execution_count": null,
      "outputs": [
        {
          "output_type": "display_data",
          "data": {
            "text/html": [
              "<table class=\"dataframe\">\n",
              "<caption>A tibble: 2 × 2</caption>\n",
              "<thead>\n",
              "\t<tr><th scope=col>Species</th><th scope=col>pvalor</th></tr>\n",
              "\t<tr><th scope=col>&lt;fct&gt;</th><th scope=col>&lt;dbl&gt;</th></tr>\n",
              "</thead>\n",
              "<tbody>\n",
              "\t<tr><td>versicolor</td><td>7.913472e-31</td></tr>\n",
              "\t<tr><td>virginica </td><td>9.104528e-14</td></tr>\n",
              "</tbody>\n",
              "</table>\n"
            ],
            "text/markdown": "\nA tibble: 2 × 2\n\n| Species &lt;fct&gt; | pvalor &lt;dbl&gt; |\n|---|---|\n| versicolor | 7.913472e-31 |\n| virginica  | 9.104528e-14 |\n\n",
            "text/latex": "A tibble: 2 × 2\n\\begin{tabular}{ll}\n Species & pvalor\\\\\n <fct> & <dbl>\\\\\n\\hline\n\t versicolor & 7.913472e-31\\\\\n\t virginica  & 9.104528e-14\\\\\n\\end{tabular}\n",
            "text/plain": [
              "  Species    pvalor      \n",
              "1 versicolor 7.913472e-31\n",
              "2 virginica  9.104528e-14"
            ]
          },
          "metadata": {}
        }
      ]
    },
    {
      "cell_type": "code",
      "source": [
        ""
      ],
      "metadata": {
        "id": "EJnxf5K68vGf"
      },
      "id": "EJnxf5K68vGf",
      "execution_count": null,
      "outputs": []
    },
    {
      "cell_type": "markdown",
      "source": [
        "# Exercicio\n",
        "Para o seguinte exercicio, calcule a razão entre sepal width e length, faça o mesmo para petal length e width. depois por especie faça um teste de medias utilizando o teste t-student para verificar se a media da razão da sepa é menor que a media de razão da petala (Assuma que todas as hipoteses estatisticas são validas.)"
      ],
      "metadata": {
        "id": "oeGuLIha-5j4"
      },
      "id": "oeGuLIha-5j4"
    },
    {
      "cell_type": "code",
      "source": [
        "iris %>% select(Petal.Length,Species) %>%\n",
        "    pivot_wider(names_from = Species, values_from = Petal.Length) "
      ],
      "metadata": {
        "colab": {
          "base_uri": "https://localhost:8080/",
          "height": 372
        },
        "id": "hzDr2r_rBxfM",
        "outputId": "08bd8c14-e80e-47d5-f19c-d72ef71568cb"
      },
      "id": "hzDr2r_rBxfM",
      "execution_count": null,
      "outputs": [
        {
          "output_type": "stream",
          "name": "stderr",
          "text": [
            "Warning message:\n",
            "“Values from `Petal.Length` are not uniquely identified; output will contain list-cols.\n",
            "* Use `values_fn = list` to suppress this warning.\n",
            "* Use `values_fn = {summary_fun}` to summarise duplicates.\n",
            "* Use the following dplyr code to identify duplicates.\n",
            "  {data} %>%\n",
            "    dplyr::group_by(Species) %>%\n",
            "    dplyr::summarise(n = dplyr::n(), .groups = \"drop\") %>%\n",
            "    dplyr::filter(n > 1L)”\n"
          ]
        },
        {
          "output_type": "display_data",
          "data": {
            "text/html": [
              "<table class=\"dataframe\">\n",
              "<caption>A tibble: 1 × 3</caption>\n",
              "<thead>\n",
              "\t<tr><th scope=col>setosa</th><th scope=col>versicolor</th><th scope=col>virginica</th></tr>\n",
              "\t<tr><th scope=col>&lt;list&gt;</th><th scope=col>&lt;list&gt;</th><th scope=col>&lt;list&gt;</th></tr>\n",
              "</thead>\n",
              "<tbody>\n",
              "\t<tr><td>1.4, 1.4, 1.3, 1.5, 1.4, 1.7, 1.4, 1.5, 1.4, 1.5, 1.5, 1.6, 1.4, 1.1, 1.2, 1.5, 1.3, 1.4, 1.7, 1.5, 1.7, 1.5, 1.0, 1.7, 1.9, 1.6, 1.6, 1.5, 1.4, 1.6, 1.6, 1.5, 1.5, 1.4, 1.5, 1.2, 1.3, 1.4, 1.3, 1.5, 1.3, 1.3, 1.3, 1.6, 1.9, 1.4, 1.6, 1.4, 1.5, 1.4</td><td>4.7, 4.5, 4.9, 4.0, 4.6, 4.5, 4.7, 3.3, 4.6, 3.9, 3.5, 4.2, 4.0, 4.7, 3.6, 4.4, 4.5, 4.1, 4.5, 3.9, 4.8, 4.0, 4.9, 4.7, 4.3, 4.4, 4.8, 5.0, 4.5, 3.5, 3.8, 3.7, 3.9, 5.1, 4.5, 4.5, 4.7, 4.4, 4.1, 4.0, 4.4, 4.6, 4.0, 3.3, 4.2, 4.2, 4.2, 4.3, 3.0, 4.1</td><td>6.0, 5.1, 5.9, 5.6, 5.8, 6.6, 4.5, 6.3, 5.8, 6.1, 5.1, 5.3, 5.5, 5.0, 5.1, 5.3, 5.5, 6.7, 6.9, 5.0, 5.7, 4.9, 6.7, 4.9, 5.7, 6.0, 4.8, 4.9, 5.6, 5.8, 6.1, 6.4, 5.6, 5.1, 5.6, 6.1, 5.6, 5.5, 4.8, 5.4, 5.6, 5.1, 5.1, 5.9, 5.7, 5.2, 5.0, 5.2, 5.4, 5.1</td></tr>\n",
              "</tbody>\n",
              "</table>\n"
            ],
            "text/markdown": "\nA tibble: 1 × 3\n\n| setosa &lt;list&gt; | versicolor &lt;list&gt; | virginica &lt;list&gt; |\n|---|---|---|\n| 1.4, 1.4, 1.3, 1.5, 1.4, 1.7, 1.4, 1.5, 1.4, 1.5, 1.5, 1.6, 1.4, 1.1, 1.2, 1.5, 1.3, 1.4, 1.7, 1.5, 1.7, 1.5, 1.0, 1.7, 1.9, 1.6, 1.6, 1.5, 1.4, 1.6, 1.6, 1.5, 1.5, 1.4, 1.5, 1.2, 1.3, 1.4, 1.3, 1.5, 1.3, 1.3, 1.3, 1.6, 1.9, 1.4, 1.6, 1.4, 1.5, 1.4 | 4.7, 4.5, 4.9, 4.0, 4.6, 4.5, 4.7, 3.3, 4.6, 3.9, 3.5, 4.2, 4.0, 4.7, 3.6, 4.4, 4.5, 4.1, 4.5, 3.9, 4.8, 4.0, 4.9, 4.7, 4.3, 4.4, 4.8, 5.0, 4.5, 3.5, 3.8, 3.7, 3.9, 5.1, 4.5, 4.5, 4.7, 4.4, 4.1, 4.0, 4.4, 4.6, 4.0, 3.3, 4.2, 4.2, 4.2, 4.3, 3.0, 4.1 | 6.0, 5.1, 5.9, 5.6, 5.8, 6.6, 4.5, 6.3, 5.8, 6.1, 5.1, 5.3, 5.5, 5.0, 5.1, 5.3, 5.5, 6.7, 6.9, 5.0, 5.7, 4.9, 6.7, 4.9, 5.7, 6.0, 4.8, 4.9, 5.6, 5.8, 6.1, 6.4, 5.6, 5.1, 5.6, 6.1, 5.6, 5.5, 4.8, 5.4, 5.6, 5.1, 5.1, 5.9, 5.7, 5.2, 5.0, 5.2, 5.4, 5.1 |\n\n",
            "text/latex": "A tibble: 1 × 3\n\\begin{tabular}{lll}\n setosa & versicolor & virginica\\\\\n <list> & <list> & <list>\\\\\n\\hline\n\t 1.4, 1.4, 1.3, 1.5, 1.4, 1.7, 1.4, 1.5, 1.4, 1.5, 1.5, 1.6, 1.4, 1.1, 1.2, 1.5, 1.3, 1.4, 1.7, 1.5, 1.7, 1.5, 1.0, 1.7, 1.9, 1.6, 1.6, 1.5, 1.4, 1.6, 1.6, 1.5, 1.5, 1.4, 1.5, 1.2, 1.3, 1.4, 1.3, 1.5, 1.3, 1.3, 1.3, 1.6, 1.9, 1.4, 1.6, 1.4, 1.5, 1.4 & 4.7, 4.5, 4.9, 4.0, 4.6, 4.5, 4.7, 3.3, 4.6, 3.9, 3.5, 4.2, 4.0, 4.7, 3.6, 4.4, 4.5, 4.1, 4.5, 3.9, 4.8, 4.0, 4.9, 4.7, 4.3, 4.4, 4.8, 5.0, 4.5, 3.5, 3.8, 3.7, 3.9, 5.1, 4.5, 4.5, 4.7, 4.4, 4.1, 4.0, 4.4, 4.6, 4.0, 3.3, 4.2, 4.2, 4.2, 4.3, 3.0, 4.1 & 6.0, 5.1, 5.9, 5.6, 5.8, 6.6, 4.5, 6.3, 5.8, 6.1, 5.1, 5.3, 5.5, 5.0, 5.1, 5.3, 5.5, 6.7, 6.9, 5.0, 5.7, 4.9, 6.7, 4.9, 5.7, 6.0, 4.8, 4.9, 5.6, 5.8, 6.1, 6.4, 5.6, 5.1, 5.6, 6.1, 5.6, 5.5, 4.8, 5.4, 5.6, 5.1, 5.1, 5.9, 5.7, 5.2, 5.0, 5.2, 5.4, 5.1\\\\\n\\end{tabular}\n",
            "text/plain": [
              "  setosa                                                                                                                                                                                                                                                  \n",
              "1 1.4, 1.4, 1.3, 1.5, 1.4, 1.7, 1.4, 1.5, 1.4, 1.5, 1.5, 1.6, 1.4, 1.1, 1.2, 1.5, 1.3, 1.4, 1.7, 1.5, 1.7, 1.5, 1.0, 1.7, 1.9, 1.6, 1.6, 1.5, 1.4, 1.6, 1.6, 1.5, 1.5, 1.4, 1.5, 1.2, 1.3, 1.4, 1.3, 1.5, 1.3, 1.3, 1.3, 1.6, 1.9, 1.4, 1.6, 1.4, 1.5, 1.4\n",
              "  versicolor                                                                                                                                                                                                                                              \n",
              "1 4.7, 4.5, 4.9, 4.0, 4.6, 4.5, 4.7, 3.3, 4.6, 3.9, 3.5, 4.2, 4.0, 4.7, 3.6, 4.4, 4.5, 4.1, 4.5, 3.9, 4.8, 4.0, 4.9, 4.7, 4.3, 4.4, 4.8, 5.0, 4.5, 3.5, 3.8, 3.7, 3.9, 5.1, 4.5, 4.5, 4.7, 4.4, 4.1, 4.0, 4.4, 4.6, 4.0, 3.3, 4.2, 4.2, 4.2, 4.3, 3.0, 4.1\n",
              "  virginica                                                                                                                                                                                                                                               \n",
              "1 6.0, 5.1, 5.9, 5.6, 5.8, 6.6, 4.5, 6.3, 5.8, 6.1, 5.1, 5.3, 5.5, 5.0, 5.1, 5.3, 5.5, 6.7, 6.9, 5.0, 5.7, 4.9, 6.7, 4.9, 5.7, 6.0, 4.8, 4.9, 5.6, 5.8, 6.1, 6.4, 5.6, 5.1, 5.6, 6.1, 5.6, 5.5, 4.8, 5.4, 5.6, 5.1, 5.1, 5.9, 5.7, 5.2, 5.0, 5.2, 5.4, 5.1"
            ]
          },
          "metadata": {}
        }
      ]
    },
    {
      "cell_type": "code",
      "source": [
        "t.test(List$setosa,List$virginica)"
      ],
      "metadata": {
        "colab": {
          "base_uri": "https://localhost:8080/",
          "height": 217
        },
        "id": "VofaIow6Dq-I",
        "outputId": "91d79ca7-420a-4166-deab-1070ae814861"
      },
      "id": "VofaIow6Dq-I",
      "execution_count": null,
      "outputs": [
        {
          "output_type": "stream",
          "name": "stderr",
          "text": [
            "Warning message in mean.default(x):\n",
            "“argument is not numeric or logical: returning NA”\n"
          ]
        },
        {
          "output_type": "error",
          "ename": "ERROR",
          "evalue": "ignored",
          "traceback": [
            "Error in var(x): is.atomic(x) is not TRUE\nTraceback:\n",
            "1. t.test(List$setosa, List$virginica)",
            "2. t.test.default(List$setosa, List$virginica)",
            "3. var(x)",
            "4. stopifnot(is.atomic(x))"
          ]
        }
      ]
    },
    {
      "cell_type": "code",
      "source": [
        ""
      ],
      "metadata": {
        "id": "SR8jvzu0Ligi"
      },
      "id": "SR8jvzu0Ligi",
      "execution_count": null,
      "outputs": []
    }
  ],
  "metadata": {
    "kernelspec": {
      "display_name": "R",
      "language": "R",
      "name": "ir"
    },
    "language_info": {
      "codemirror_mode": "r",
      "file_extension": ".r",
      "mimetype": "text/x-r-source",
      "name": "R",
      "pygments_lexer": "r",
      "version": "4.0.5"
    },
    "colab": {
      "name": "An tidyverse revision",
      "provenance": [],
      "collapsed_sections": []
    }
  },
  "nbformat": 4,
  "nbformat_minor": 5
}