{
  "cells": [
    {
      "cell_type": "markdown",
      "id": "7815d2f1",
      "metadata": {
        "id": "7815d2f1"
      },
      "source": [
        "Uma vez ja tendo falado do dplyr, vemos a seguir como é feito o acesso a api do spark através deste, de forma a utilizar tudo que este backend proporciona para escalonamento do codigo"
      ]
    },
    {
      "cell_type": "code",
      "source": [
        "install.packages('sparklyr')"
      ],
      "metadata": {
        "colab": {
          "base_uri": "https://localhost:8080/"
        },
        "id": "O0eo6nTvEhJD",
        "outputId": "847a1a9a-65ad-4eca-c642-2ba1364e7ec4"
      },
      "id": "O0eo6nTvEhJD",
      "execution_count": 1,
      "outputs": [
        {
          "output_type": "stream",
          "name": "stderr",
          "text": [
            "Installing package into ‘/usr/local/lib/R/site-library’\n",
            "(as ‘lib’ is unspecified)\n",
            "\n"
          ]
        }
      ]
    },
    {
      "cell_type": "markdown",
      "source": [
        "Uma vez tendo instalado, importamos o dplyr, e o sparklyr, biblioteca que faz a interface com o spark utilizando a sintaxe dplyr"
      ],
      "metadata": {
        "id": "AK_LSUfqF24t"
      },
      "id": "AK_LSUfqF24t"
    },
    {
      "cell_type": "code",
      "execution_count": 2,
      "id": "50c43816",
      "metadata": {
        "colab": {
          "base_uri": "https://localhost:8080/"
        },
        "id": "50c43816",
        "outputId": "e15d7e55-e273-499f-9115-92af95e9e07b"
      },
      "outputs": [
        {
          "output_type": "stream",
          "name": "stderr",
          "text": [
            "Loading required package: dplyr\n",
            "\n",
            "\n",
            "Attaching package: ‘dplyr’\n",
            "\n",
            "\n",
            "The following objects are masked from ‘package:stats’:\n",
            "\n",
            "    filter, lag\n",
            "\n",
            "\n",
            "The following objects are masked from ‘package:base’:\n",
            "\n",
            "    intersect, setdiff, setequal, union\n",
            "\n",
            "\n",
            "Loading required package: sparklyr\n",
            "\n",
            "\n",
            "Attaching package: ‘sparklyr’\n",
            "\n",
            "\n",
            "The following object is masked from ‘package:stats’:\n",
            "\n",
            "    filter\n",
            "\n",
            "\n"
          ]
        }
      ],
      "source": [
        "require(dplyr) #Importando a biblioteca\n",
        "require(sparklyr)"
      ]
    },
    {
      "cell_type": "markdown",
      "source": [
        "Caso o spark não esteja instalado em sua maquina para testes, este pode ser instalado a partir da propria biblioteca sparklyr com o seguinte comando:"
      ],
      "metadata": {
        "id": "3MX56KlkGBO4"
      },
      "id": "3MX56KlkGBO4"
    },
    {
      "cell_type": "code",
      "source": [
        "spark_install(version='3.0.0')"
      ],
      "metadata": {
        "id": "7q4UZYYpEvpP"
      },
      "id": "7q4UZYYpEvpP",
      "execution_count": 3,
      "outputs": []
    },
    {
      "cell_type": "markdown",
      "source": [
        "Finalmente tendo configurado o ambiente. vamos explorar o spark\n",
        "\n",
        "\n"
      ],
      "metadata": {
        "id": "MfXksgtYGLHi"
      },
      "id": "MfXksgtYGLHi"
    },
    {
      "cell_type": "markdown",
      "source": [
        "# Acessando o ambiente"
      ],
      "metadata": {
        "id": "JItkYBtIGxX4"
      },
      "id": "JItkYBtIGxX4"
    },
    {
      "cell_type": "markdown",
      "source": [
        "Nesta seção mostraremos como o ambiente é acessado e informações a partir dele são obtidas"
      ],
      "metadata": {
        "id": "6Sr7Nt1KHQdr"
      },
      "id": "6Sr7Nt1KHQdr"
    },
    {
      "cell_type": "markdown",
      "source": [
        "primeiramente para criar uma configuração customizada, acessa se a configuração padrão a partir da função spark_config"
      ],
      "metadata": {
        "id": "9UflEh6mLEPA"
      },
      "id": "9UflEh6mLEPA"
    },
    {
      "cell_type": "code",
      "source": [
        "configuracao=spark_config()"
      ],
      "metadata": {
        "id": "1bGBMDQQKTDo"
      },
      "id": "1bGBMDQQKTDo",
      "execution_count": 4,
      "outputs": []
    },
    {
      "cell_type": "markdown",
      "source": [
        "Este objeto pode ser editado, por exemplo aqui modifico o tamanho de memoria do nó spark a ser utilizado"
      ],
      "metadata": {
        "id": "5j8b7iLvLPGo"
      },
      "id": "5j8b7iLvLPGo"
    },
    {
      "cell_type": "code",
      "source": [
        "configuracao$`sparklyr.shell.driver-memory`='4g'\n"
      ],
      "metadata": {
        "id": "2kH_ZqvqKWIl"
      },
      "id": "2kH_ZqvqKWIl",
      "execution_count": 5,
      "outputs": []
    },
    {
      "cell_type": "markdown",
      "source": [
        "Vemos que temos alguns atributos neste objeto, descrevendo as configurações do ambiente spark, vistos a seguir"
      ],
      "metadata": {
        "id": "BO0GllA9LXvI"
      },
      "id": "BO0GllA9LXvI"
    },
    {
      "cell_type": "code",
      "source": [
        "configuracao"
      ],
      "metadata": {
        "colab": {
          "base_uri": "https://localhost:8080/",
          "height": 254
        },
        "id": "eNNo_yzBKm2S",
        "outputId": "afab96ab-3c7b-4fe4-9c9d-09d5c7e2b314"
      },
      "id": "eNNo_yzBKm2S",
      "execution_count": 6,
      "outputs": [
        {
          "output_type": "display_data",
          "data": {
            "text/html": [
              "<dl>\n",
              "\t<dt>$spark.env.SPARK_LOCAL_IP.local</dt>\n",
              "\t\t<dd>'127.0.0.1'</dd>\n",
              "\t<dt>$sparklyr.connect.csv.embedded</dt>\n",
              "\t\t<dd>'^1.*'</dd>\n",
              "\t<dt>$spark.sql.legacy.utcTimestampFunc.enabled</dt>\n",
              "\t\t<dd>TRUE</dd>\n",
              "\t<dt>$sparklyr.connect.cores.local</dt>\n",
              "\t\t<dd>2</dd>\n",
              "\t<dt>$spark.sql.shuffle.partitions.local</dt>\n",
              "\t\t<dd>2</dd>\n",
              "\t<dt>$`sparklyr.shell.driver-memory`</dt>\n",
              "\t\t<dd>'4g'</dd>\n",
              "</dl>\n"
            ],
            "text/markdown": "$spark.env.SPARK_LOCAL_IP.local\n:   '127.0.0.1'\n$sparklyr.connect.csv.embedded\n:   '^1.*'\n$spark.sql.legacy.utcTimestampFunc.enabled\n:   TRUE\n$sparklyr.connect.cores.local\n:   2\n$spark.sql.shuffle.partitions.local\n:   2\n$`sparklyr.shell.driver-memory`\n:   '4g'\n\n\n",
            "text/latex": "\\begin{description}\n\\item[\\$spark.env.SPARK\\_LOCAL\\_IP.local] '127.0.0.1'\n\\item[\\$sparklyr.connect.csv.embedded] '\\textasciicircum{}1.*'\n\\item[\\$spark.sql.legacy.utcTimestampFunc.enabled] TRUE\n\\item[\\$sparklyr.connect.cores.local] 2\n\\item[\\$spark.sql.shuffle.partitions.local] 2\n\\item[\\$`sparklyr.shell.driver-memory`] '4g'\n\\end{description}\n",
            "text/plain": [
              "$spark.env.SPARK_LOCAL_IP.local\n",
              "[1] \"127.0.0.1\"\n",
              "\n",
              "$sparklyr.connect.csv.embedded\n",
              "[1] \"^1.*\"\n",
              "\n",
              "$spark.sql.legacy.utcTimestampFunc.enabled\n",
              "[1] TRUE\n",
              "\n",
              "$sparklyr.connect.cores.local\n",
              "[1] 2\n",
              "\n",
              "$spark.sql.shuffle.partitions.local\n",
              "[1] 2\n",
              "\n",
              "$`sparklyr.shell.driver-memory`\n",
              "[1] \"4g\"\n",
              "\n",
              "attr(,\"config\")\n",
              "[1] \"default\"\n",
              "attr(,\"file\")\n",
              "[1] \"/usr/local/lib/R/site-library/sparklyr/conf/config-template.yml\""
            ]
          },
          "metadata": {}
        }
      ]
    },
    {
      "cell_type": "markdown",
      "source": [
        "Por fim fazemos a conexão"
      ],
      "metadata": {
        "id": "kpNewZPuLz8K"
      },
      "id": "kpNewZPuLz8K"
    },
    {
      "cell_type": "code",
      "source": [
        "sc=spark_connect(master='local',config=configuracao)  "
      ],
      "metadata": {
        "id": "Au9oMFzkHaB6"
      },
      "id": "Au9oMFzkHaB6",
      "execution_count": 7,
      "outputs": []
    },
    {
      "cell_type": "markdown",
      "source": [
        "Visualizando o objeto de conexão vemos que este é uma lista com diversos metadados"
      ],
      "metadata": {
        "id": "NtpXE4dkHuE8"
      },
      "id": "NtpXE4dkHuE8"
    },
    {
      "cell_type": "code",
      "source": [
        "names(sc)"
      ],
      "metadata": {
        "colab": {
          "base_uri": "https://localhost:8080/",
          "height": 34
        },
        "id": "bdGey1puHzje",
        "outputId": "d9ff9925-e021-436c-c856-42ce636c3f8b"
      },
      "id": "bdGey1puHzje",
      "execution_count": 8,
      "outputs": [
        {
          "output_type": "display_data",
          "data": {
            "text/html": [
              "<style>\n",
              ".list-inline {list-style: none; margin:0; padding: 0}\n",
              ".list-inline>li {display: inline-block}\n",
              ".list-inline>li:not(:last-child)::after {content: \"\\00b7\"; padding: 0 .5ex}\n",
              "</style>\n",
              "<ol class=list-inline><li>'master'</li><li>'method'</li><li>'app_name'</li><li>'config'</li><li>'state'</li><li>'extensions'</li><li>'spark_home'</li><li>'backend'</li><li>'monitoring'</li><li>'gateway'</li><li>'output_file'</li><li>'sessionId'</li><li>'home_version'</li></ol>\n"
            ],
            "text/markdown": "1. 'master'\n2. 'method'\n3. 'app_name'\n4. 'config'\n5. 'state'\n6. 'extensions'\n7. 'spark_home'\n8. 'backend'\n9. 'monitoring'\n10. 'gateway'\n11. 'output_file'\n12. 'sessionId'\n13. 'home_version'\n\n\n",
            "text/latex": "\\begin{enumerate*}\n\\item 'master'\n\\item 'method'\n\\item 'app\\_name'\n\\item 'config'\n\\item 'state'\n\\item 'extensions'\n\\item 'spark\\_home'\n\\item 'backend'\n\\item 'monitoring'\n\\item 'gateway'\n\\item 'output\\_file'\n\\item 'sessionId'\n\\item 'home\\_version'\n\\end{enumerate*}\n",
            "text/plain": [
              " [1] \"master\"       \"method\"       \"app_name\"     \"config\"       \"state\"       \n",
              " [6] \"extensions\"   \"spark_home\"   \"backend\"      \"monitoring\"   \"gateway\"     \n",
              "[11] \"output_file\"  \"sessionId\"    \"home_version\""
            ]
          },
          "metadata": {}
        }
      ]
    },
    {
      "cell_type": "markdown",
      "source": [
        "Em especial ao acessar o metodo config podemos verificar os metadados de configuração do ambiente spark pre estabelecido."
      ],
      "metadata": {
        "id": "yZ17ojxxI1IJ"
      },
      "id": "yZ17ojxxI1IJ"
    },
    {
      "cell_type": "code",
      "source": [
        "sc$config"
      ],
      "metadata": {
        "colab": {
          "base_uri": "https://localhost:8080/",
          "height": 288
        },
        "id": "2ENdIDGaIvax",
        "outputId": "cc329bfd-60c4-4cb4-9699-3c9bb2245aa5"
      },
      "id": "2ENdIDGaIvax",
      "execution_count": 9,
      "outputs": [
        {
          "output_type": "display_data",
          "data": {
            "text/html": [
              "<dl>\n",
              "\t<dt>$spark.env.SPARK_LOCAL_IP.local</dt>\n",
              "\t\t<dd>'127.0.0.1'</dd>\n",
              "\t<dt>$sparklyr.connect.csv.embedded</dt>\n",
              "\t\t<dd>'^1.*'</dd>\n",
              "\t<dt>$spark.sql.legacy.utcTimestampFunc.enabled</dt>\n",
              "\t\t<dd>TRUE</dd>\n",
              "\t<dt>$sparklyr.connect.cores.local</dt>\n",
              "\t\t<dd>2</dd>\n",
              "\t<dt>$spark.sql.shuffle.partitions.local</dt>\n",
              "\t\t<dd>2</dd>\n",
              "\t<dt>$`sparklyr.shell.driver-memory`</dt>\n",
              "\t\t<dd>'4g'</dd>\n",
              "\t<dt>$sparklyr.shell.name</dt>\n",
              "\t\t<dd>'sparklyr'</dd>\n",
              "</dl>\n"
            ],
            "text/markdown": "$spark.env.SPARK_LOCAL_IP.local\n:   '127.0.0.1'\n$sparklyr.connect.csv.embedded\n:   '^1.*'\n$spark.sql.legacy.utcTimestampFunc.enabled\n:   TRUE\n$sparklyr.connect.cores.local\n:   2\n$spark.sql.shuffle.partitions.local\n:   2\n$`sparklyr.shell.driver-memory`\n:   '4g'\n$sparklyr.shell.name\n:   'sparklyr'\n\n\n",
            "text/latex": "\\begin{description}\n\\item[\\$spark.env.SPARK\\_LOCAL\\_IP.local] '127.0.0.1'\n\\item[\\$sparklyr.connect.csv.embedded] '\\textasciicircum{}1.*'\n\\item[\\$spark.sql.legacy.utcTimestampFunc.enabled] TRUE\n\\item[\\$sparklyr.connect.cores.local] 2\n\\item[\\$spark.sql.shuffle.partitions.local] 2\n\\item[\\$`sparklyr.shell.driver-memory`] '4g'\n\\item[\\$sparklyr.shell.name] 'sparklyr'\n\\end{description}\n",
            "text/plain": [
              "$spark.env.SPARK_LOCAL_IP.local\n",
              "[1] \"127.0.0.1\"\n",
              "\n",
              "$sparklyr.connect.csv.embedded\n",
              "[1] \"^1.*\"\n",
              "\n",
              "$spark.sql.legacy.utcTimestampFunc.enabled\n",
              "[1] TRUE\n",
              "\n",
              "$sparklyr.connect.cores.local\n",
              "[1] 2\n",
              "\n",
              "$spark.sql.shuffle.partitions.local\n",
              "[1] 2\n",
              "\n",
              "$`sparklyr.shell.driver-memory`\n",
              "[1] \"4g\"\n",
              "\n",
              "$sparklyr.shell.name\n",
              "[1] \"sparklyr\"\n",
              "\n",
              "attr(,\"config\")\n",
              "[1] \"default\"\n",
              "attr(,\"file\")\n",
              "[1] \"/usr/local/lib/R/site-library/sparklyr/conf/config-template.yml\""
            ]
          },
          "metadata": {}
        }
      ]
    },
    {
      "cell_type": "markdown",
      "source": [
        "assim vemos que a configuração foi feita de forma correta e temos acesso ao ambiente spark.\n",
        "\n",
        "a seguir vamos carregar um dataset simples para ser explorado"
      ],
      "metadata": {
        "id": "QOHYYFhjL4eq"
      },
      "id": "QOHYYFhjL4eq"
    },
    {
      "cell_type": "code",
      "source": [
        "Link='https://raw.githubusercontent.com/fportoDexl/cursoBigData/main/data/titanic.csv'"
      ],
      "metadata": {
        "id": "k_V3Rk4dKDSi"
      },
      "id": "k_V3Rk4dKDSi",
      "execution_count": 10,
      "outputs": []
    },
    {
      "cell_type": "code",
      "source": [
        "download.file(Link,destfile='Dataset.csv')"
      ],
      "metadata": {
        "id": "60PIEwFaNWCd"
      },
      "id": "60PIEwFaNWCd",
      "execution_count": 11,
      "outputs": []
    },
    {
      "cell_type": "markdown",
      "source": [
        "Para carregar este dataset no spark, utilizamos a função spark_read_csv\n",
        "\n",
        "Sua sintaxe é Dado=spark_read_csv(conexao,Caminho,NomeTabela (opcional) )"
      ],
      "metadata": {
        "id": "01sttRrSM7k1"
      },
      "id": "01sttRrSM7k1"
    },
    {
      "cell_type": "code",
      "source": [
        "Particoes=2"
      ],
      "metadata": {
        "id": "2VExCxmVvVan"
      },
      "id": "2VExCxmVvVan",
      "execution_count": 50,
      "outputs": []
    },
    {
      "cell_type": "code",
      "source": [
        "Dataset_Spark=spark_read_csv(sc,'Dataset.csv',repartition = Particoes)"
      ],
      "metadata": {
        "id": "WyA7g7n9MVDb"
      },
      "id": "WyA7g7n9MVDb",
      "execution_count": 51,
      "outputs": []
    },
    {
      "cell_type": "code",
      "source": [
        "Dataset_Spark"
      ],
      "metadata": {
        "colab": {
          "base_uri": "https://localhost:8080/",
          "height": 260
        },
        "id": "rp9FMTzJPSuG",
        "outputId": "05c6d8dc-9f8e-4ebb-f48c-725fbdf886e9"
      },
      "id": "rp9FMTzJPSuG",
      "execution_count": 52,
      "outputs": [
        {
          "output_type": "display_data",
          "data": {
            "text/plain": [
              "\u001b[90m# Source: spark<Dataset_0c317872_6a76_402f_9238_2c4f962ed559> [?? x 12]\u001b[39m\n",
              "   PassengerId Survived Pclass Name  Sex     Age SibSp Parch Ticket   Fare Cabin\n",
              "         \u001b[3m\u001b[90m<int>\u001b[39m\u001b[23m    \u001b[3m\u001b[90m<int>\u001b[39m\u001b[23m  \u001b[3m\u001b[90m<int>\u001b[39m\u001b[23m \u001b[3m\u001b[90m<chr>\u001b[39m\u001b[23m \u001b[3m\u001b[90m<chr>\u001b[39m\u001b[23m \u001b[3m\u001b[90m<dbl>\u001b[39m\u001b[23m \u001b[3m\u001b[90m<int>\u001b[39m\u001b[23m \u001b[3m\u001b[90m<int>\u001b[39m\u001b[23m \u001b[3m\u001b[90m<chr>\u001b[39m\u001b[23m   \u001b[3m\u001b[90m<dbl>\u001b[39m\u001b[23m \u001b[3m\u001b[90m<chr>\u001b[39m\u001b[23m\n",
              "\u001b[90m 1\u001b[39m         770        0      3 Gron… male     32     0     0 8471     8.36 \u001b[31mNA\u001b[39m   \n",
              "\u001b[90m 2\u001b[39m         764        1      1 Cart… fema…    36     1     2 113760 120    B96 …\n",
              "\u001b[90m 3\u001b[39m          39        0      3 Vand… fema…    18     2     0 345764  18    \u001b[31mNA\u001b[39m   \n",
              "\u001b[90m 4\u001b[39m         446        1      1 Dodg… male      4     0     2 33638   81.9  A34  \n",
              "\u001b[90m 5\u001b[39m         543        0      3 Ande… fema…    11     4     2 347082  31.3  \u001b[31mNA\u001b[39m   \n",
              "\u001b[90m 6\u001b[39m         535        0      3 Caci… fema…    30     0     0 315084   8.66 \u001b[31mNA\u001b[39m   \n",
              "\u001b[90m 7\u001b[39m         496        0      3 Yous… male     \u001b[31mNA\u001b[39m     0     0 2627    14.5  \u001b[31mNA\u001b[39m   \n",
              "\u001b[90m 8\u001b[39m         606        0      3 Lind… male     36     1     0 349910  15.6  \u001b[31mNA\u001b[39m   \n",
              "\u001b[90m 9\u001b[39m         232        0      3 Lars… male     29     0     0 347067   7.78 \u001b[31mNA\u001b[39m   \n",
              "\u001b[90m10\u001b[39m         778        1      3 Eman… fema…     5     0     0 364516  12.5  \u001b[31mNA\u001b[39m   \n",
              "\u001b[90m# … with more rows, and 1 more variable: Embarked <chr>\u001b[39m"
            ]
          },
          "metadata": {}
        }
      ]
    },
    {
      "cell_type": "markdown",
      "source": [
        "Vemos que diferentemente de um dataframe convecional, este é um dataset spark e portanto este não reside na memoria local, mas sim distribuido entre os multiplos nós spark. \n",
        "\n",
        "Um ponto de relevancia aqui e que a sintaxe dplyr nos permite que diversos comandos sejam executados independentemente do ambiente\n",
        "\n",
        "Para demonstrar isto, carreguemos o mesmo dataset em memoria usando a sintaxe padrão da linguagem R"
      ],
      "metadata": {
        "id": "o6H8uoCfPpS5"
      },
      "id": "o6H8uoCfPpS5"
    },
    {
      "cell_type": "code",
      "source": [
        "Dataset=read.csv('Dataset.csv')"
      ],
      "metadata": {
        "id": "U3elE3sbQW50"
      },
      "id": "U3elE3sbQW50",
      "execution_count": 14,
      "outputs": []
    },
    {
      "cell_type": "code",
      "source": [
        "head(Dataset)"
      ],
      "metadata": {
        "colab": {
          "base_uri": "https://localhost:8080/",
          "height": 286
        },
        "id": "RbZKjYZVSg7V",
        "outputId": "322e56f9-088a-4d26-8393-acea0befe975"
      },
      "id": "RbZKjYZVSg7V",
      "execution_count": 15,
      "outputs": [
        {
          "output_type": "display_data",
          "data": {
            "text/html": [
              "<table class=\"dataframe\">\n",
              "<caption>A data.frame: 6 × 12</caption>\n",
              "<thead>\n",
              "\t<tr><th></th><th scope=col>PassengerId</th><th scope=col>Survived</th><th scope=col>Pclass</th><th scope=col>Name</th><th scope=col>Sex</th><th scope=col>Age</th><th scope=col>SibSp</th><th scope=col>Parch</th><th scope=col>Ticket</th><th scope=col>Fare</th><th scope=col>Cabin</th><th scope=col>Embarked</th></tr>\n",
              "\t<tr><th></th><th scope=col>&lt;int&gt;</th><th scope=col>&lt;int&gt;</th><th scope=col>&lt;int&gt;</th><th scope=col>&lt;chr&gt;</th><th scope=col>&lt;chr&gt;</th><th scope=col>&lt;dbl&gt;</th><th scope=col>&lt;int&gt;</th><th scope=col>&lt;int&gt;</th><th scope=col>&lt;chr&gt;</th><th scope=col>&lt;dbl&gt;</th><th scope=col>&lt;chr&gt;</th><th scope=col>&lt;chr&gt;</th></tr>\n",
              "</thead>\n",
              "<tbody>\n",
              "\t<tr><th scope=row>1</th><td>1</td><td>0</td><td>3</td><td>Braund, Mr. Owen Harris                            </td><td>male  </td><td>22</td><td>1</td><td>0</td><td>A/5 21171       </td><td> 7.2500</td><td>    </td><td>S</td></tr>\n",
              "\t<tr><th scope=row>2</th><td>2</td><td>1</td><td>1</td><td>Cumings, Mrs. John Bradley (Florence Briggs Thayer)</td><td>female</td><td>38</td><td>1</td><td>0</td><td>PC 17599        </td><td>71.2833</td><td>C85 </td><td>C</td></tr>\n",
              "\t<tr><th scope=row>3</th><td>3</td><td>1</td><td>3</td><td>Heikkinen, Miss. Laina                             </td><td>female</td><td>26</td><td>0</td><td>0</td><td>STON/O2. 3101282</td><td> 7.9250</td><td>    </td><td>S</td></tr>\n",
              "\t<tr><th scope=row>4</th><td>4</td><td>1</td><td>1</td><td>Futrelle, Mrs. Jacques Heath (Lily May Peel)       </td><td>female</td><td>35</td><td>1</td><td>0</td><td>113803          </td><td>53.1000</td><td>C123</td><td>S</td></tr>\n",
              "\t<tr><th scope=row>5</th><td>5</td><td>0</td><td>3</td><td>Allen, Mr. William Henry                           </td><td>male  </td><td>35</td><td>0</td><td>0</td><td>373450          </td><td> 8.0500</td><td>    </td><td>S</td></tr>\n",
              "\t<tr><th scope=row>6</th><td>6</td><td>0</td><td>3</td><td>Moran, Mr. James                                   </td><td>male  </td><td>NA</td><td>0</td><td>0</td><td>330877          </td><td> 8.4583</td><td>    </td><td>Q</td></tr>\n",
              "</tbody>\n",
              "</table>\n"
            ],
            "text/markdown": "\nA data.frame: 6 × 12\n\n| <!--/--> | PassengerId &lt;int&gt; | Survived &lt;int&gt; | Pclass &lt;int&gt; | Name &lt;chr&gt; | Sex &lt;chr&gt; | Age &lt;dbl&gt; | SibSp &lt;int&gt; | Parch &lt;int&gt; | Ticket &lt;chr&gt; | Fare &lt;dbl&gt; | Cabin &lt;chr&gt; | Embarked &lt;chr&gt; |\n|---|---|---|---|---|---|---|---|---|---|---|---|---|\n| 1 | 1 | 0 | 3 | Braund, Mr. Owen Harris                             | male   | 22 | 1 | 0 | A/5 21171        |  7.2500 | <!----> | S |\n| 2 | 2 | 1 | 1 | Cumings, Mrs. John Bradley (Florence Briggs Thayer) | female | 38 | 1 | 0 | PC 17599         | 71.2833 | C85  | C |\n| 3 | 3 | 1 | 3 | Heikkinen, Miss. Laina                              | female | 26 | 0 | 0 | STON/O2. 3101282 |  7.9250 | <!----> | S |\n| 4 | 4 | 1 | 1 | Futrelle, Mrs. Jacques Heath (Lily May Peel)        | female | 35 | 1 | 0 | 113803           | 53.1000 | C123 | S |\n| 5 | 5 | 0 | 3 | Allen, Mr. William Henry                            | male   | 35 | 0 | 0 | 373450           |  8.0500 | <!----> | S |\n| 6 | 6 | 0 | 3 | Moran, Mr. James                                    | male   | NA | 0 | 0 | 330877           |  8.4583 | <!----> | Q |\n\n",
            "text/latex": "A data.frame: 6 × 12\n\\begin{tabular}{r|llllllllllll}\n  & PassengerId & Survived & Pclass & Name & Sex & Age & SibSp & Parch & Ticket & Fare & Cabin & Embarked\\\\\n  & <int> & <int> & <int> & <chr> & <chr> & <dbl> & <int> & <int> & <chr> & <dbl> & <chr> & <chr>\\\\\n\\hline\n\t1 & 1 & 0 & 3 & Braund, Mr. Owen Harris                             & male   & 22 & 1 & 0 & A/5 21171        &  7.2500 &      & S\\\\\n\t2 & 2 & 1 & 1 & Cumings, Mrs. John Bradley (Florence Briggs Thayer) & female & 38 & 1 & 0 & PC 17599         & 71.2833 & C85  & C\\\\\n\t3 & 3 & 1 & 3 & Heikkinen, Miss. Laina                              & female & 26 & 0 & 0 & STON/O2. 3101282 &  7.9250 &      & S\\\\\n\t4 & 4 & 1 & 1 & Futrelle, Mrs. Jacques Heath (Lily May Peel)        & female & 35 & 1 & 0 & 113803           & 53.1000 & C123 & S\\\\\n\t5 & 5 & 0 & 3 & Allen, Mr. William Henry                            & male   & 35 & 0 & 0 & 373450           &  8.0500 &      & S\\\\\n\t6 & 6 & 0 & 3 & Moran, Mr. James                                    & male   & NA & 0 & 0 & 330877           &  8.4583 &      & Q\\\\\n\\end{tabular}\n",
            "text/plain": [
              "  PassengerId Survived Pclass\n",
              "1 1           0        3     \n",
              "2 2           1        1     \n",
              "3 3           1        3     \n",
              "4 4           1        1     \n",
              "5 5           0        3     \n",
              "6 6           0        3     \n",
              "  Name                                                Sex    Age SibSp Parch\n",
              "1 Braund, Mr. Owen Harris                             male   22  1     0    \n",
              "2 Cumings, Mrs. John Bradley (Florence Briggs Thayer) female 38  1     0    \n",
              "3 Heikkinen, Miss. Laina                              female 26  0     0    \n",
              "4 Futrelle, Mrs. Jacques Heath (Lily May Peel)        female 35  1     0    \n",
              "5 Allen, Mr. William Henry                            male   35  0     0    \n",
              "6 Moran, Mr. James                                    male   NA  0     0    \n",
              "  Ticket           Fare    Cabin Embarked\n",
              "1 A/5 21171         7.2500       S       \n",
              "2 PC 17599         71.2833 C85   C       \n",
              "3 STON/O2. 3101282  7.9250       S       \n",
              "4 113803           53.1000 C123  S       \n",
              "5 373450            8.0500       S       \n",
              "6 330877            8.4583       Q       "
            ]
          },
          "metadata": {}
        }
      ]
    },
    {
      "cell_type": "markdown",
      "source": [
        "Outra forma de se obter um dataframe spark é de lelo em memoria e depois fazer a transferencia de memoria para o ambiente spark. Para fazelo podemos usar o comando copy_to, repare como as funções de ingestão de objetos no ambiente spark requerem a conexão como um dos parametros"
      ],
      "metadata": {
        "id": "MZ9VXdSKjs2M"
      },
      "id": "MZ9VXdSKjs2M"
    },
    {
      "cell_type": "code",
      "source": [
        "Dado=copy_to(sc,Dataset)"
      ],
      "metadata": {
        "id": "muKAT1VVjjbz"
      },
      "id": "muKAT1VVjjbz",
      "execution_count": 16,
      "outputs": []
    },
    {
      "cell_type": "code",
      "source": [
        "Dado"
      ],
      "metadata": {
        "colab": {
          "base_uri": "https://localhost:8080/",
          "height": 260
        },
        "id": "IyXHjJS0jp8a",
        "outputId": "8cd66c84-a852-478a-da98-3878b83880ba"
      },
      "id": "IyXHjJS0jp8a",
      "execution_count": 17,
      "outputs": [
        {
          "output_type": "display_data",
          "data": {
            "text/plain": [
              "\u001b[90m# Source: spark<Dataset> [?? x 12]\u001b[39m\n",
              "   PassengerId Survived Pclass Name   Sex     Age SibSp Parch Ticket  Fare Cabin\n",
              "         \u001b[3m\u001b[90m<int>\u001b[39m\u001b[23m    \u001b[3m\u001b[90m<int>\u001b[39m\u001b[23m  \u001b[3m\u001b[90m<int>\u001b[39m\u001b[23m \u001b[3m\u001b[90m<chr>\u001b[39m\u001b[23m  \u001b[3m\u001b[90m<chr>\u001b[39m\u001b[23m \u001b[3m\u001b[90m<dbl>\u001b[39m\u001b[23m \u001b[3m\u001b[90m<int>\u001b[39m\u001b[23m \u001b[3m\u001b[90m<int>\u001b[39m\u001b[23m \u001b[3m\u001b[90m<chr>\u001b[39m\u001b[23m  \u001b[3m\u001b[90m<dbl>\u001b[39m\u001b[23m \u001b[3m\u001b[90m<chr>\u001b[39m\u001b[23m\n",
              "\u001b[90m 1\u001b[39m           1        0      3 Braun… male     22     1     0 A/5 2…  7.25 \u001b[90m\"\u001b[39m\u001b[90m\"\u001b[39m   \n",
              "\u001b[90m 2\u001b[39m           2        1      1 Cumin… fema…    38     1     0 PC 17… 71.3  \u001b[90m\"\u001b[39mC85\u001b[90m\"\u001b[39m\n",
              "\u001b[90m 3\u001b[39m           3        1      3 Heikk… fema…    26     0     0 STON/…  7.92 \u001b[90m\"\u001b[39m\u001b[90m\"\u001b[39m   \n",
              "\u001b[90m 4\u001b[39m           4        1      1 Futre… fema…    35     1     0 113803 53.1  \u001b[90m\"\u001b[39mC12…\n",
              "\u001b[90m 5\u001b[39m           5        0      3 Allen… male     35     0     0 373450  8.05 \u001b[90m\"\u001b[39m\u001b[90m\"\u001b[39m   \n",
              "\u001b[90m 6\u001b[39m           6        0      3 Moran… male     \u001b[31mNA\u001b[39m     0     0 330877  8.46 \u001b[90m\"\u001b[39m\u001b[90m\"\u001b[39m   \n",
              "\u001b[90m 7\u001b[39m           7        0      1 McCar… male     54     0     0 17463  51.9  \u001b[90m\"\u001b[39mE46\u001b[90m\"\u001b[39m\n",
              "\u001b[90m 8\u001b[39m           8        0      3 Palss… male      2     3     1 349909 21.1  \u001b[90m\"\u001b[39m\u001b[90m\"\u001b[39m   \n",
              "\u001b[90m 9\u001b[39m           9        1      3 Johns… fema…    27     0     2 347742 11.1  \u001b[90m\"\u001b[39m\u001b[90m\"\u001b[39m   \n",
              "\u001b[90m10\u001b[39m          10        1      2 Nasse… fema…    14     1     0 237736 30.1  \u001b[90m\"\u001b[39m\u001b[90m\"\u001b[39m   \n",
              "\u001b[90m# … with more rows, and 1 more variable: Embarked <chr>\u001b[39m"
            ]
          },
          "metadata": {}
        }
      ]
    },
    {
      "cell_type": "markdown",
      "source": [
        "E se quisermos ver quais os datasets contidos no ambiente spark, podemos visualizar com o comando src_tbls"
      ],
      "metadata": {
        "id": "fgGg9hlIkX-D"
      },
      "id": "fgGg9hlIkX-D"
    },
    {
      "cell_type": "code",
      "source": [
        "src_tbls(sc)\n",
        "\n"
      ],
      "metadata": {
        "colab": {
          "base_uri": "https://localhost:8080/",
          "height": 34
        },
        "id": "Yd_zneplkE0I",
        "outputId": "55656af0-0e12-406d-8cd3-3519ee5a7a44"
      },
      "id": "Yd_zneplkE0I",
      "execution_count": 18,
      "outputs": [
        {
          "output_type": "display_data",
          "data": {
            "text/html": [
              "<style>\n",
              ".list-inline {list-style: none; margin:0; padding: 0}\n",
              ".list-inline>li {display: inline-block}\n",
              ".list-inline>li:not(:last-child)::after {content: \"\\00b7\"; padding: 0 .5ex}\n",
              "</style>\n",
              "<ol class=list-inline><li>'dataset'</li><li>'dataset_ec2c5adb_abcd_4ae1_b551_add0fc8b0fec'</li></ol>\n"
            ],
            "text/markdown": "1. 'dataset'\n2. 'dataset_ec2c5adb_abcd_4ae1_b551_add0fc8b0fec'\n\n\n",
            "text/latex": "\\begin{enumerate*}\n\\item 'dataset'\n\\item 'dataset\\_ec2c5adb\\_abcd\\_4ae1\\_b551\\_add0fc8b0fec'\n\\end{enumerate*}\n",
            "text/plain": [
              "[1] \"dataset\"                                     \n",
              "[2] \"dataset_ec2c5adb_abcd_4ae1_b551_add0fc8b0fec\""
            ]
          },
          "metadata": {}
        }
      ]
    },
    {
      "cell_type": "markdown",
      "source": [
        "Como discutido ja no exemplo anterior, o dplyr traz varias funções em uma estrutura SQL, assim mostramos a seguir como a mesma função é aplicavel nos dois datasets.\n",
        "\n",
        "A seguir algumas queries:\n",
        "\n",
        "- Querie A: Conte o numero de homens e mulheres no dataset agrupados pelo fato de se sobreviveram ou não\n",
        "\n",
        "- Querie B: Para cada classe vendida e genero observe o preço medio de venda, Alem disto calcule a idade media das pessoas que adquiriram esta passagem, por fim gere uma visualização desta\n"
      ],
      "metadata": {
        "id": "Z2i4lygxUe0n"
      },
      "id": "Z2i4lygxUe0n"
    },
    {
      "cell_type": "code",
      "source": [
        "Dataset %>% group_by(Survived) %>% count(Sex)"
      ],
      "metadata": {
        "colab": {
          "base_uri": "https://localhost:8080/",
          "height": 223
        },
        "id": "UK7o1G-XWeUz",
        "outputId": "fabbdf43-01fa-4d60-888e-6f8a3607b51a"
      },
      "id": "UK7o1G-XWeUz",
      "execution_count": 19,
      "outputs": [
        {
          "output_type": "display_data",
          "data": {
            "text/html": [
              "<table class=\"dataframe\">\n",
              "<caption>A grouped_df: 4 × 3</caption>\n",
              "<thead>\n",
              "\t<tr><th scope=col>Survived</th><th scope=col>Sex</th><th scope=col>n</th></tr>\n",
              "\t<tr><th scope=col>&lt;int&gt;</th><th scope=col>&lt;chr&gt;</th><th scope=col>&lt;int&gt;</th></tr>\n",
              "</thead>\n",
              "<tbody>\n",
              "\t<tr><td>0</td><td>female</td><td> 81</td></tr>\n",
              "\t<tr><td>0</td><td>male  </td><td>468</td></tr>\n",
              "\t<tr><td>1</td><td>female</td><td>233</td></tr>\n",
              "\t<tr><td>1</td><td>male  </td><td>109</td></tr>\n",
              "</tbody>\n",
              "</table>\n"
            ],
            "text/markdown": "\nA grouped_df: 4 × 3\n\n| Survived &lt;int&gt; | Sex &lt;chr&gt; | n &lt;int&gt; |\n|---|---|---|\n| 0 | female |  81 |\n| 0 | male   | 468 |\n| 1 | female | 233 |\n| 1 | male   | 109 |\n\n",
            "text/latex": "A grouped\\_df: 4 × 3\n\\begin{tabular}{lll}\n Survived & Sex & n\\\\\n <int> & <chr> & <int>\\\\\n\\hline\n\t 0 & female &  81\\\\\n\t 0 & male   & 468\\\\\n\t 1 & female & 233\\\\\n\t 1 & male   & 109\\\\\n\\end{tabular}\n",
            "text/plain": [
              "  Survived Sex    n  \n",
              "1 0        female  81\n",
              "2 0        male   468\n",
              "3 1        female 233\n",
              "4 1        male   109"
            ]
          },
          "metadata": {}
        }
      ]
    },
    {
      "cell_type": "code",
      "source": [
        "Dataset_Spark %>% group_by(Survived) %>% count(Sex)"
      ],
      "metadata": {
        "colab": {
          "base_uri": "https://localhost:8080/",
          "height": 156
        },
        "id": "yorrSAqUW4Vk",
        "outputId": "84d8d599-63df-420f-ce91-c830300c4e5b"
      },
      "id": "yorrSAqUW4Vk",
      "execution_count": 20,
      "outputs": [
        {
          "output_type": "display_data",
          "data": {
            "text/plain": [
              "\u001b[90m# Source: spark<?> [?? x 3]\u001b[39m\n",
              "\u001b[90m# Groups: Survived\u001b[39m\n",
              "  Survived Sex        n\n",
              "     \u001b[3m\u001b[90m<int>\u001b[39m\u001b[23m \u001b[3m\u001b[90m<chr>\u001b[39m\u001b[23m  \u001b[3m\u001b[90m<dbl>\u001b[39m\u001b[23m\n",
              "\u001b[90m1\u001b[39m        0 male     468\n",
              "\u001b[90m2\u001b[39m        1 female   233\n",
              "\u001b[90m3\u001b[39m        0 female    81\n",
              "\u001b[90m4\u001b[39m        1 male     109"
            ]
          },
          "metadata": {}
        }
      ]
    },
    {
      "cell_type": "code",
      "source": [
        "require(ggplot2)"
      ],
      "metadata": {
        "colab": {
          "base_uri": "https://localhost:8080/"
        },
        "id": "PhyDJPc4pfi-",
        "outputId": "3d0717f3-8937-4dc9-ca8c-e60ab1266747"
      },
      "id": "PhyDJPc4pfi-",
      "execution_count": 22,
      "outputs": [
        {
          "output_type": "stream",
          "name": "stderr",
          "text": [
            "Loading required package: ggplot2\n",
            "\n"
          ]
        }
      ]
    },
    {
      "cell_type": "code",
      "source": [
        "Dataset %>% group_by(Sex,Pclass) %>% summarize(Valor= mean(Fare,na.rm=TRUE),Idade=mean(Age,na.rm=TRUE) ) %>%\n",
        "ggplot() + aes(x=Pclass,y=Valor,fill=Sex) + geom_col(position = 'dodge')"
      ],
      "metadata": {
        "colab": {
          "base_uri": "https://localhost:8080/",
          "height": 472
        },
        "id": "JLX3QKqBZjGG",
        "outputId": "61b2dff9-edc9-44df-d00c-6e64379bdf16"
      },
      "id": "JLX3QKqBZjGG",
      "execution_count": 23,
      "outputs": [
        {
          "output_type": "stream",
          "name": "stderr",
          "text": [
            "\u001b[1m\u001b[22m`summarise()` has grouped output by 'Sex'. You can override using the `.groups`\n",
            "argument.\n"
          ]
        },
        {
          "output_type": "display_data",
          "data": {
            "text/plain": [
              "plot without title"
            ],
            "image/png": "[encoded data removed]"
          },
          "metadata": {
            "image/png": {
              "width": 420,
              "height": 420
            }
          }
        }
      ]
    },
    {
      "cell_type": "code",
      "source": [
        "Dataset_Spark %>% group_by(Sex,Pclass) %>% summarize(Valor= mean(Fare,na.rm=TRUE),Idade=mean(Age,na.rm=TRUE) ) %>%\n",
        "ggplot() + aes(x=Pclass,y=Valor,fill=Sex) + geom_col(position = 'dodge')"
      ],
      "metadata": {
        "colab": {
          "base_uri": "https://localhost:8080/",
          "height": 454
        },
        "id": "6ewVj4IiY7V9",
        "outputId": "96f369d1-b989-47d5-f6c4-63e427ef5498"
      },
      "id": "6ewVj4IiY7V9",
      "execution_count": 24,
      "outputs": [
        {
          "output_type": "stream",
          "name": "stderr",
          "text": [
            "`summarise()` has grouped output by 'Sex'. You can override using the `.groups` argument.\n"
          ]
        },
        {
          "output_type": "display_data",
          "data": {
            "text/plain": [
              "plot without title"
            ],
            "image/png": "[encoded data removed]"
          },
          "metadata": {
            "image/png": {
              "width": 420,
              "height": 420
            }
          }
        }
      ]
    },
    {
      "cell_type": "markdown",
      "source": [
        "Um ponto observado, e que enquanto as queries possuem o mesmo resultado, a saida das queries spark não esta armazenada em memoria\n",
        "\n",
        "Alguns pacotes atualmente lidam com esta questão e trazem o objeto a memoria apos a realização do grafo de execução da tarefa spark. Para garantir que uma querie esteja em memoria, inclua o comando collect() no final da querie. por exemplo"
      ],
      "metadata": {
        "id": "HNzvezLUaBay"
      },
      "id": "HNzvezLUaBay"
    },
    {
      "cell_type": "code",
      "source": [
        "df=Dataset_Spark %>% group_by(Sex,Pclass) %>% summarize(Valor= mean(Fare),Idade=mean(Age) )"
      ],
      "metadata": {
        "id": "l1Z5Y-MKcCor"
      },
      "id": "l1Z5Y-MKcCor",
      "execution_count": 25,
      "outputs": []
    },
    {
      "cell_type": "markdown",
      "source": [
        ""
      ],
      "metadata": {
        "id": "35W9_qqFSlkX"
      },
      "id": "35W9_qqFSlkX"
    },
    {
      "cell_type": "code",
      "source": [
        "df"
      ],
      "metadata": {
        "colab": {
          "base_uri": "https://localhost:8080/",
          "height": 312
        },
        "id": "_qdNlq5mfVhi",
        "outputId": "ce5874d2-9b86-4af1-e8c4-817401dffc31"
      },
      "id": "_qdNlq5mfVhi",
      "execution_count": 26,
      "outputs": [
        {
          "output_type": "stream",
          "name": "stderr",
          "text": [
            "Warning message:\n",
            "“Missing values are always removed in SQL.\n",
            "Use `mean(x, na.rm = TRUE)` to silence this warning\n",
            "This warning is displayed only once per session.”\n",
            "`summarise()` has grouped output by 'Sex'. You can override using the `.groups` argument.\n",
            "`summarise()` has grouped output by 'Sex'. You can override using the `.groups` argument.\n",
            "`summarise()` has grouped output by 'Sex'. You can override using the `.groups` argument.\n"
          ]
        },
        {
          "output_type": "display_data",
          "data": {
            "text/plain": [
              "\u001b[90m# Source: spark<?> [?? x 4]\u001b[39m\n",
              "\u001b[90m# Groups: Sex\u001b[39m\n",
              "  Sex    Pclass Valor Idade\n",
              "  \u001b[3m\u001b[90m<chr>\u001b[39m\u001b[23m   \u001b[3m\u001b[90m<int>\u001b[39m\u001b[23m \u001b[3m\u001b[90m<dbl>\u001b[39m\u001b[23m \u001b[3m\u001b[90m<dbl>\u001b[39m\u001b[23m\n",
              "\u001b[90m1\u001b[39m male        3  12.7  26.5\n",
              "\u001b[90m2\u001b[39m female      2  22.0  28.7\n",
              "\u001b[90m3\u001b[39m female      1 106.   34.6\n",
              "\u001b[90m4\u001b[39m female      3  16.1  21.8\n",
              "\u001b[90m5\u001b[39m male        1  67.2  41.3\n",
              "\u001b[90m6\u001b[39m male        2  19.7  30.7"
            ]
          },
          "metadata": {}
        }
      ]
    },
    {
      "cell_type": "code",
      "source": [
        "df %>% collect()"
      ],
      "metadata": {
        "colab": {
          "base_uri": "https://localhost:8080/",
          "height": 286
        },
        "id": "WLZOLhfpfZNC",
        "outputId": "7f830db6-bb45-4a07-bb21-90e665af95f5"
      },
      "id": "WLZOLhfpfZNC",
      "execution_count": 27,
      "outputs": [
        {
          "output_type": "display_data",
          "data": {
            "text/html": [
              "<table class=\"dataframe\">\n",
              "<caption>A tibble: 6 × 4</caption>\n",
              "<thead>\n",
              "\t<tr><th scope=col>Sex</th><th scope=col>Pclass</th><th scope=col>Valor</th><th scope=col>Idade</th></tr>\n",
              "\t<tr><th scope=col>&lt;chr&gt;</th><th scope=col>&lt;int&gt;</th><th scope=col>&lt;dbl&gt;</th><th scope=col>&lt;dbl&gt;</th></tr>\n",
              "</thead>\n",
              "<tbody>\n",
              "\t<tr><td>male  </td><td>3</td><td> 12.66163</td><td>26.50759</td></tr>\n",
              "\t<tr><td>female</td><td>2</td><td> 21.97012</td><td>28.72297</td></tr>\n",
              "\t<tr><td>female</td><td>1</td><td>106.12580</td><td>34.61176</td></tr>\n",
              "\t<tr><td>female</td><td>3</td><td> 16.11881</td><td>21.75000</td></tr>\n",
              "\t<tr><td>male  </td><td>1</td><td> 67.22613</td><td>41.28139</td></tr>\n",
              "\t<tr><td>male  </td><td>2</td><td> 19.74178</td><td>30.74071</td></tr>\n",
              "</tbody>\n",
              "</table>\n"
            ],
            "text/markdown": "\nA tibble: 6 × 4\n\n| Sex &lt;chr&gt; | Pclass &lt;int&gt; | Valor &lt;dbl&gt; | Idade &lt;dbl&gt; |\n|---|---|---|---|\n| male   | 3 |  12.66163 | 26.50759 |\n| female | 2 |  21.97012 | 28.72297 |\n| female | 1 | 106.12580 | 34.61176 |\n| female | 3 |  16.11881 | 21.75000 |\n| male   | 1 |  67.22613 | 41.28139 |\n| male   | 2 |  19.74178 | 30.74071 |\n\n",
            "text/latex": "A tibble: 6 × 4\n\\begin{tabular}{llll}\n Sex & Pclass & Valor & Idade\\\\\n <chr> & <int> & <dbl> & <dbl>\\\\\n\\hline\n\t male   & 3 &  12.66163 & 26.50759\\\\\n\t female & 2 &  21.97012 & 28.72297\\\\\n\t female & 1 & 106.12580 & 34.61176\\\\\n\t female & 3 &  16.11881 & 21.75000\\\\\n\t male   & 1 &  67.22613 & 41.28139\\\\\n\t male   & 2 &  19.74178 & 30.74071\\\\\n\\end{tabular}\n",
            "text/plain": [
              "  Sex    Pclass Valor     Idade   \n",
              "1 male   3       12.66163 26.50759\n",
              "2 female 2       21.97012 28.72297\n",
              "3 female 1      106.12580 34.61176\n",
              "4 female 3       16.11881 21.75000\n",
              "5 male   1       67.22613 41.28139\n",
              "6 male   2       19.74178 30.74071"
            ]
          },
          "metadata": {}
        }
      ]
    },
    {
      "cell_type": "markdown",
      "source": [
        "Outro ponto relevante a ser dito, que para aqueles ja acostumados com SQL, podemos utilizar o pacote DBI que nos permite a interface a sistemas de banco de dados. A partir desta podemos executar o comando dbGetQuery, que espera a referencia de conexão ao banco e a query SQL"
      ],
      "metadata": {
        "id": "PiUKq9BtlJYl"
      },
      "id": "PiUKq9BtlJYl"
    },
    {
      "cell_type": "code",
      "source": [
        "require(DBI)\n",
        "dbGetQuery(sc, \"select Sex,Pclass,mean(Fare),mean(Age)  from dataset  group by Sex, Pclass\") "
      ],
      "metadata": {
        "colab": {
          "base_uri": "https://localhost:8080/",
          "height": 286
        },
        "id": "et9-Wh8ykjRA",
        "outputId": "2b1733a1-d545-42b0-ff33-7b615feeb947"
      },
      "id": "et9-Wh8ykjRA",
      "execution_count": 53,
      "outputs": [
        {
          "output_type": "display_data",
          "data": {
            "text/html": [
              "<table class=\"dataframe\">\n",
              "<caption>A data.frame: 6 × 4</caption>\n",
              "<thead>\n",
              "\t<tr><th scope=col>Sex</th><th scope=col>Pclass</th><th scope=col>mean(Fare)</th><th scope=col>mean(Age)</th></tr>\n",
              "\t<tr><th scope=col>&lt;chr&gt;</th><th scope=col>&lt;int&gt;</th><th scope=col>&lt;dbl&gt;</th><th scope=col>&lt;dbl&gt;</th></tr>\n",
              "</thead>\n",
              "<tbody>\n",
              "\t<tr><td>male  </td><td>3</td><td> 12.66163</td><td>26.50759</td></tr>\n",
              "\t<tr><td>female</td><td>2</td><td> 21.97012</td><td>28.72297</td></tr>\n",
              "\t<tr><td>female</td><td>1</td><td>106.12580</td><td>34.61176</td></tr>\n",
              "\t<tr><td>female</td><td>3</td><td> 16.11881</td><td>21.75000</td></tr>\n",
              "\t<tr><td>male  </td><td>1</td><td> 67.22613</td><td>41.28139</td></tr>\n",
              "\t<tr><td>male  </td><td>2</td><td> 19.74178</td><td>30.74071</td></tr>\n",
              "</tbody>\n",
              "</table>\n"
            ],
            "text/markdown": "\nA data.frame: 6 × 4\n\n| Sex &lt;chr&gt; | Pclass &lt;int&gt; | mean(Fare) &lt;dbl&gt; | mean(Age) &lt;dbl&gt; |\n|---|---|---|---|\n| male   | 3 |  12.66163 | 26.50759 |\n| female | 2 |  21.97012 | 28.72297 |\n| female | 1 | 106.12580 | 34.61176 |\n| female | 3 |  16.11881 | 21.75000 |\n| male   | 1 |  67.22613 | 41.28139 |\n| male   | 2 |  19.74178 | 30.74071 |\n\n",
            "text/latex": "A data.frame: 6 × 4\n\\begin{tabular}{llll}\n Sex & Pclass & mean(Fare) & mean(Age)\\\\\n <chr> & <int> & <dbl> & <dbl>\\\\\n\\hline\n\t male   & 3 &  12.66163 & 26.50759\\\\\n\t female & 2 &  21.97012 & 28.72297\\\\\n\t female & 1 & 106.12580 & 34.61176\\\\\n\t female & 3 &  16.11881 & 21.75000\\\\\n\t male   & 1 &  67.22613 & 41.28139\\\\\n\t male   & 2 &  19.74178 & 30.74071\\\\\n\\end{tabular}\n",
            "text/plain": [
              "  Sex    Pclass mean(Fare) mean(Age)\n",
              "1 male   3       12.66163  26.50759 \n",
              "2 female 2       21.97012  28.72297 \n",
              "3 female 1      106.12580  34.61176 \n",
              "4 female 3       16.11881  21.75000 \n",
              "5 male   1       67.22613  41.28139 \n",
              "6 male   2       19.74178  30.74071 "
            ]
          },
          "metadata": {}
        }
      ]
    },
    {
      "cell_type": "markdown",
      "source": [
        "Assim vemos que o dataframe spark volta a ser um dataframe comum em memoria apos o comando collect."
      ],
      "metadata": {
        "id": "Ys0yOCYMfciu"
      },
      "id": "Ys0yOCYMfciu"
    },
    {
      "cell_type": "markdown",
      "source": [
        "- Exercicio 1: Realize as queries acima incluindo novas metricas como desvio padrão, minimo e maximo\n",
        "\n",
        "- Exercicio 2: Verifique que os exercicios explorados no modulo anterior podem ser executados no spark facilmente. para tal utilize a função copy_to do spark para transferir o dataset iris para o ambiente spark"
      ],
      "metadata": {
        "id": "c7amMjTygg6M"
      },
      "id": "c7amMjTygg6M"
    },
    {
      "cell_type": "markdown",
      "source": [
        "Apos passado esta parte, outro ponto sobre o spark e conhecido como lazy_evaluation, isto se trata do fato que a querie spark so é executada quando nescessario, assim podendo otimizar internamente a execução. Para verificar isto podemos mostrar um comparativo entre o dataframe normal e o dataframe spark com as consultas ja apresentadas usando a forma funcional destas"
      ],
      "metadata": {
        "id": "kdreN2iOpo3O"
      },
      "id": "kdreN2iOpo3O"
    },
    {
      "cell_type": "code",
      "source": [
        "Start=Sys.time()\n",
        "d=Dataset \n",
        "print(Sys.time()-Start)\n",
        "Start=Sys.time()\n",
        "d=group_by(d,Sex,Pclass) \n",
        "print(Sys.time()-Start)\n",
        "Start=Sys.time()\n",
        "d=summarize(d,Valor= mean(Fare,na.rm=TRUE),Idade=mean(Age,na.rm=TRUE) ) \n",
        "print(Sys.time()-Start)\n"
      ],
      "metadata": {
        "colab": {
          "base_uri": "https://localhost:8080/"
        },
        "id": "cq-ji-gBqi0z",
        "outputId": "af2cb2bb-aebb-4250-fbe2-bad4f62ac54d"
      },
      "id": "cq-ji-gBqi0z",
      "execution_count": 37,
      "outputs": [
        {
          "output_type": "stream",
          "name": "stdout",
          "text": [
            "Time difference of 0.002375841 secs\n",
            "Time difference of 0.007621527 secs\n"
          ]
        },
        {
          "output_type": "stream",
          "name": "stderr",
          "text": [
            "\u001b[1m\u001b[22m`summarise()` has grouped output by 'Sex'. You can override using the `.groups`\n",
            "argument.\n"
          ]
        },
        {
          "output_type": "stream",
          "name": "stdout",
          "text": [
            "Time difference of 0.03135061 secs\n"
          ]
        }
      ]
    },
    {
      "cell_type": "code",
      "source": [
        "class(Dataset_Spark)"
      ],
      "metadata": {
        "colab": {
          "base_uri": "https://localhost:8080/",
          "height": 34
        },
        "id": "wgk6_jNCsEk9",
        "outputId": "1e3f1657-f768-494a-adc0-c6f8ce541cca"
      },
      "id": "wgk6_jNCsEk9",
      "execution_count": 38,
      "outputs": [
        {
          "output_type": "display_data",
          "data": {
            "text/html": [
              "<style>\n",
              ".list-inline {list-style: none; margin:0; padding: 0}\n",
              ".list-inline>li {display: inline-block}\n",
              ".list-inline>li:not(:last-child)::after {content: \"\\00b7\"; padding: 0 .5ex}\n",
              "</style>\n",
              "<ol class=list-inline><li>'tbl_spark'</li><li>'tbl_sql'</li><li>'tbl_lazy'</li><li>'tbl'</li></ol>\n"
            ],
            "text/markdown": "1. 'tbl_spark'\n2. 'tbl_sql'\n3. 'tbl_lazy'\n4. 'tbl'\n\n\n",
            "text/latex": "\\begin{enumerate*}\n\\item 'tbl\\_spark'\n\\item 'tbl\\_sql'\n\\item 'tbl\\_lazy'\n\\item 'tbl'\n\\end{enumerate*}\n",
            "text/plain": [
              "[1] \"tbl_spark\" \"tbl_sql\"   \"tbl_lazy\"  \"tbl\"      "
            ]
          },
          "metadata": {}
        }
      ]
    },
    {
      "cell_type": "code",
      "source": [
        "class(Dataset)"
      ],
      "metadata": {
        "colab": {
          "base_uri": "https://localhost:8080/",
          "height": 34
        },
        "id": "NqRBB5-IsHaj",
        "outputId": "0b4b80df-2400-4055-bd05-19e290a59210"
      },
      "id": "NqRBB5-IsHaj",
      "execution_count": 39,
      "outputs": [
        {
          "output_type": "display_data",
          "data": {
            "text/html": [
              "'data.frame'"
            ],
            "text/markdown": "'data.frame'",
            "text/latex": "'data.frame'",
            "text/plain": [
              "[1] \"data.frame\""
            ]
          },
          "metadata": {}
        }
      ]
    },
    {
      "cell_type": "markdown",
      "source": [
        "Este experimento é interessante em um dataset maior"
      ],
      "metadata": {
        "id": "S0_L4mztsZPU"
      },
      "id": "S0_L4mztsZPU"
    },
    {
      "cell_type": "code",
      "source": [
        "Start=Sys.time()\n",
        "d=Dataset_Spark \n",
        "print(Sys.time()-Start)\n",
        "Start=Sys.time()\n",
        "d=group_by(d,Sex,Pclass) \n",
        "print(Sys.time()-Start)\n",
        "Start=Sys.time()\n",
        "d=summarize(d,Valor= mean(Fare,na.rm=TRUE),Idade=mean(Age,na.rm=TRUE) ) \n",
        "print(Sys.time()-Start)\n"
      ],
      "metadata": {
        "colab": {
          "base_uri": "https://localhost:8080/"
        },
        "id": "2h20Z_JKruQ4",
        "outputId": "1569c5e6-02e8-4515-9d4c-e987a1e13f88"
      },
      "id": "2h20Z_JKruQ4",
      "execution_count": 36,
      "outputs": [
        {
          "output_type": "stream",
          "name": "stdout",
          "text": [
            "Time difference of 0.002100706 secs\n",
            "Time difference of 0.03511953 secs\n",
            "Time difference of 0.00559473 secs\n"
          ]
        }
      ]
    },
    {
      "cell_type": "code",
      "source": [
        "head(Dataset)"
      ],
      "metadata": {
        "colab": {
          "base_uri": "https://localhost:8080/",
          "height": 286
        },
        "id": "STLUeWe2trAc",
        "outputId": "fb661142-c3cc-4d48-dc72-73021053e648"
      },
      "id": "STLUeWe2trAc",
      "execution_count": 48,
      "outputs": [
        {
          "output_type": "display_data",
          "data": {
            "text/html": [
              "<table class=\"dataframe\">\n",
              "<caption>A data.frame: 6 × 12</caption>\n",
              "<thead>\n",
              "\t<tr><th></th><th scope=col>PassengerId</th><th scope=col>Survived</th><th scope=col>Pclass</th><th scope=col>Name</th><th scope=col>Sex</th><th scope=col>Age</th><th scope=col>SibSp</th><th scope=col>Parch</th><th scope=col>Ticket</th><th scope=col>Fare</th><th scope=col>Cabin</th><th scope=col>Embarked</th></tr>\n",
              "\t<tr><th></th><th scope=col>&lt;int&gt;</th><th scope=col>&lt;int&gt;</th><th scope=col>&lt;int&gt;</th><th scope=col>&lt;chr&gt;</th><th scope=col>&lt;chr&gt;</th><th scope=col>&lt;dbl&gt;</th><th scope=col>&lt;int&gt;</th><th scope=col>&lt;int&gt;</th><th scope=col>&lt;chr&gt;</th><th scope=col>&lt;dbl&gt;</th><th scope=col>&lt;chr&gt;</th><th scope=col>&lt;chr&gt;</th></tr>\n",
              "</thead>\n",
              "<tbody>\n",
              "\t<tr><th scope=row>1</th><td>1</td><td>0</td><td>3</td><td>Braund, Mr. Owen Harris                            </td><td>male  </td><td>22</td><td>1</td><td>0</td><td>A/5 21171       </td><td> 7.2500</td><td>    </td><td>S</td></tr>\n",
              "\t<tr><th scope=row>2</th><td>2</td><td>1</td><td>1</td><td>Cumings, Mrs. John Bradley (Florence Briggs Thayer)</td><td>female</td><td>38</td><td>1</td><td>0</td><td>PC 17599        </td><td>71.2833</td><td>C85 </td><td>C</td></tr>\n",
              "\t<tr><th scope=row>3</th><td>3</td><td>1</td><td>3</td><td>Heikkinen, Miss. Laina                             </td><td>female</td><td>26</td><td>0</td><td>0</td><td>STON/O2. 3101282</td><td> 7.9250</td><td>    </td><td>S</td></tr>\n",
              "\t<tr><th scope=row>4</th><td>4</td><td>1</td><td>1</td><td>Futrelle, Mrs. Jacques Heath (Lily May Peel)       </td><td>female</td><td>35</td><td>1</td><td>0</td><td>113803          </td><td>53.1000</td><td>C123</td><td>S</td></tr>\n",
              "\t<tr><th scope=row>5</th><td>5</td><td>0</td><td>3</td><td>Allen, Mr. William Henry                           </td><td>male  </td><td>35</td><td>0</td><td>0</td><td>373450          </td><td> 8.0500</td><td>    </td><td>S</td></tr>\n",
              "\t<tr><th scope=row>6</th><td>6</td><td>0</td><td>3</td><td>Moran, Mr. James                                   </td><td>male  </td><td>NA</td><td>0</td><td>0</td><td>330877          </td><td> 8.4583</td><td>    </td><td>Q</td></tr>\n",
              "</tbody>\n",
              "</table>\n"
            ],
            "text/markdown": "\nA data.frame: 6 × 12\n\n| <!--/--> | PassengerId &lt;int&gt; | Survived &lt;int&gt; | Pclass &lt;int&gt; | Name &lt;chr&gt; | Sex &lt;chr&gt; | Age &lt;dbl&gt; | SibSp &lt;int&gt; | Parch &lt;int&gt; | Ticket &lt;chr&gt; | Fare &lt;dbl&gt; | Cabin &lt;chr&gt; | Embarked &lt;chr&gt; |\n|---|---|---|---|---|---|---|---|---|---|---|---|---|\n| 1 | 1 | 0 | 3 | Braund, Mr. Owen Harris                             | male   | 22 | 1 | 0 | A/5 21171        |  7.2500 | <!----> | S |\n| 2 | 2 | 1 | 1 | Cumings, Mrs. John Bradley (Florence Briggs Thayer) | female | 38 | 1 | 0 | PC 17599         | 71.2833 | C85  | C |\n| 3 | 3 | 1 | 3 | Heikkinen, Miss. Laina                              | female | 26 | 0 | 0 | STON/O2. 3101282 |  7.9250 | <!----> | S |\n| 4 | 4 | 1 | 1 | Futrelle, Mrs. Jacques Heath (Lily May Peel)        | female | 35 | 1 | 0 | 113803           | 53.1000 | C123 | S |\n| 5 | 5 | 0 | 3 | Allen, Mr. William Henry                            | male   | 35 | 0 | 0 | 373450           |  8.0500 | <!----> | S |\n| 6 | 6 | 0 | 3 | Moran, Mr. James                                    | male   | NA | 0 | 0 | 330877           |  8.4583 | <!----> | Q |\n\n",
            "text/latex": "A data.frame: 6 × 12\n\\begin{tabular}{r|llllllllllll}\n  & PassengerId & Survived & Pclass & Name & Sex & Age & SibSp & Parch & Ticket & Fare & Cabin & Embarked\\\\\n  & <int> & <int> & <int> & <chr> & <chr> & <dbl> & <int> & <int> & <chr> & <dbl> & <chr> & <chr>\\\\\n\\hline\n\t1 & 1 & 0 & 3 & Braund, Mr. Owen Harris                             & male   & 22 & 1 & 0 & A/5 21171        &  7.2500 &      & S\\\\\n\t2 & 2 & 1 & 1 & Cumings, Mrs. John Bradley (Florence Briggs Thayer) & female & 38 & 1 & 0 & PC 17599         & 71.2833 & C85  & C\\\\\n\t3 & 3 & 1 & 3 & Heikkinen, Miss. Laina                              & female & 26 & 0 & 0 & STON/O2. 3101282 &  7.9250 &      & S\\\\\n\t4 & 4 & 1 & 1 & Futrelle, Mrs. Jacques Heath (Lily May Peel)        & female & 35 & 1 & 0 & 113803           & 53.1000 & C123 & S\\\\\n\t5 & 5 & 0 & 3 & Allen, Mr. William Henry                            & male   & 35 & 0 & 0 & 373450           &  8.0500 &      & S\\\\\n\t6 & 6 & 0 & 3 & Moran, Mr. James                                    & male   & NA & 0 & 0 & 330877           &  8.4583 &      & Q\\\\\n\\end{tabular}\n",
            "text/plain": [
              "  PassengerId Survived Pclass\n",
              "1 1           0        3     \n",
              "2 2           1        1     \n",
              "3 3           1        3     \n",
              "4 4           1        1     \n",
              "5 5           0        3     \n",
              "6 6           0        3     \n",
              "  Name                                                Sex    Age SibSp Parch\n",
              "1 Braund, Mr. Owen Harris                             male   22  1     0    \n",
              "2 Cumings, Mrs. John Bradley (Florence Briggs Thayer) female 38  1     0    \n",
              "3 Heikkinen, Miss. Laina                              female 26  0     0    \n",
              "4 Futrelle, Mrs. Jacques Heath (Lily May Peel)        female 35  1     0    \n",
              "5 Allen, Mr. William Henry                            male   35  0     0    \n",
              "6 Moran, Mr. James                                    male   NA  0     0    \n",
              "  Ticket           Fare    Cabin Embarked\n",
              "1 A/5 21171         7.2500       S       \n",
              "2 PC 17599         71.2833 C85   C       \n",
              "3 STON/O2. 3101282  7.9250       S       \n",
              "4 113803           53.1000 C123  S       \n",
              "5 373450            8.0500       S       \n",
              "6 330877            8.4583       Q       "
            ]
          },
          "metadata": {}
        }
      ]
    },
    {
      "cell_type": "markdown",
      "source": [
        "# Joins em tabelas"
      ],
      "metadata": {
        "id": "osXcPgXboTfQ"
      },
      "id": "osXcPgXboTfQ"
    },
    {
      "cell_type": "markdown",
      "source": [
        "# Aplicando Metodos da linguagem R dentro do spark"
      ],
      "metadata": {
        "id": "kiR_bNPyoZNx"
      },
      "id": "kiR_bNPyoZNx"
    },
    {
      "cell_type": "markdown",
      "source": [
        "Um ponto importante tambem se trata que metodos da linguagem R podem ser aplicados dentro do ambiente spark, neste caso o metodo seria mapeado para cada uma das partições para que a função seja executada nestas."
      ],
      "metadata": {
        "id": "B68x-DxUuEwa"
      },
      "id": "B68x-DxUuEwa"
    },
    {
      "cell_type": "markdown",
      "source": [
        "A seguir um exemplo onde conto a quantia de pessoas que sobreviveram ou não, vemos que como esta função poderia ser descrita na linguagem sql o resultado dela usando a notação dplyr ja faz tanto a execução nas repartições, como a redução destas"
      ],
      "metadata": {
        "id": "va0h9Yksvwuj"
      },
      "id": "va0h9Yksvwuj"
    },
    {
      "cell_type": "code",
      "source": [
        "Dataset_Spark %>% count(Survived)"
      ],
      "metadata": {
        "colab": {
          "base_uri": "https://localhost:8080/",
          "height": 104
        },
        "id": "JnJ2NdJ7v2uc",
        "outputId": "3efe5d59-f92d-42b5-c445-3c48150a03ee"
      },
      "id": "JnJ2NdJ7v2uc",
      "execution_count": 55,
      "outputs": [
        {
          "output_type": "display_data",
          "data": {
            "text/plain": [
              "\u001b[90m# Source: spark<?> [?? x 2]\u001b[39m\n",
              "  Survived     n\n",
              "     \u001b[3m\u001b[90m<int>\u001b[39m\u001b[23m \u001b[3m\u001b[90m<dbl>\u001b[39m\u001b[23m\n",
              "\u001b[90m1\u001b[39m        0   549\n",
              "\u001b[90m2\u001b[39m        1   342"
            ]
          },
          "metadata": {}
        }
      ]
    },
    {
      "cell_type": "code",
      "source": [
        "Contagem=Dataset_Spark %>% spark_apply(function(df) table(df[,'Survived']) )"
      ],
      "metadata": {
        "id": "i-T-EKp3sn_5"
      },
      "id": "i-T-EKp3sn_5",
      "execution_count": 56,
      "outputs": []
    },
    {
      "cell_type": "code",
      "source": [
        "Contagem"
      ],
      "metadata": {
        "colab": {
          "base_uri": "https://localhost:8080/",
          "height": 138
        },
        "id": "03eXc_xVw1tY",
        "outputId": "aa82a57a-ce99-4394-b0d5-c4ce05f8a62a"
      },
      "id": "03eXc_xVw1tY",
      "execution_count": 57,
      "outputs": [
        {
          "output_type": "display_data",
          "data": {
            "text/plain": [
              "\u001b[90m# Source: spark<?> [?? x 2]\u001b[39m\n",
              "  Var1   Freq\n",
              "  \u001b[3m\u001b[90m<chr>\u001b[39m\u001b[23m \u001b[3m\u001b[90m<int>\u001b[39m\u001b[23m\n",
              "\u001b[90m1\u001b[39m 0       275\n",
              "\u001b[90m2\u001b[39m 1       171\n",
              "\u001b[90m3\u001b[39m 0       274\n",
              "\u001b[90m4\u001b[39m 1       171"
            ]
          },
          "metadata": {}
        }
      ]
    },
    {
      "cell_type": "markdown",
      "source": [
        "Assim vemos que neste caso precisamos fazer o reduce, para o operação de contagem isto se resume a agrupar por Var e somar a frequencia"
      ],
      "metadata": {
        "id": "F1E5MiBdw3Zl"
      },
      "id": "F1E5MiBdw3Zl"
    },
    {
      "cell_type": "code",
      "source": [
        "Contagem %>% group_by(Var1) %>% summarize(Freq=sum(Freq))"
      ],
      "metadata": {
        "colab": {
          "base_uri": "https://localhost:8080/",
          "height": 173
        },
        "id": "AMXvRLiiw_0y",
        "outputId": "9b7d9f10-cde7-4a9d-bb86-1cde4a3ae18f"
      },
      "id": "AMXvRLiiw_0y",
      "execution_count": 58,
      "outputs": [
        {
          "output_type": "stream",
          "name": "stderr",
          "text": [
            "Warning message:\n",
            "“Missing values are always removed in SQL.\n",
            "Use `SUM(x, na.rm = TRUE)` to silence this warning\n",
            "This warning is displayed only once per session.”\n"
          ]
        },
        {
          "output_type": "display_data",
          "data": {
            "text/plain": [
              "\u001b[90m# Source: spark<?> [?? x 2]\u001b[39m\n",
              "  Var1   Freq\n",
              "  \u001b[3m\u001b[90m<chr>\u001b[39m\u001b[23m \u001b[3m\u001b[90m<dbl>\u001b[39m\u001b[23m\n",
              "\u001b[90m1\u001b[39m 1       342\n",
              "\u001b[90m2\u001b[39m 0       549"
            ]
          },
          "metadata": {}
        }
      ]
    },
    {
      "cell_type": "markdown",
      "source": [
        "Assim Gerando o resultado. Claro poderiamos aplicar funções bem mais complexas no spark_apply, por exemplo considere que queremos gerar uma regressão linear onde o alvo é Fare e os descritores são Idade e sexo. Fariamos da seguinte forma"
      ],
      "metadata": {
        "id": "WGc2ZoMexIGv"
      },
      "id": "WGc2ZoMexIGv"
    },
    {
      "cell_type": "code",
      "source": [
        "require(broom)"
      ],
      "metadata": {
        "colab": {
          "base_uri": "https://localhost:8080/"
        },
        "id": "OarXOOvHzloi",
        "outputId": "166ae924-707d-467b-a009-c60d6181e936"
      },
      "id": "OarXOOvHzloi",
      "execution_count": 65,
      "outputs": [
        {
          "output_type": "stream",
          "name": "stderr",
          "text": [
            "Loading required package: broom\n",
            "\n"
          ]
        }
      ]
    },
    {
      "cell_type": "code",
      "source": [
        "spark_apply(\n",
        "  Dataset_Spark,\n",
        "  function(df) broom::tidy(lm(Fare ~ Age+Sex, df)),\n",
        "  names = c(\"term\", \"estimate\", \"std.error\", \"statistic\", \"p.value\")\n",
        "  )"
      ],
      "metadata": {
        "colab": {
          "base_uri": "https://localhost:8080/",
          "height": 138
        },
        "id": "pKvOzQeIz5IF",
        "outputId": "b61de2cf-18b8-42c6-b0db-a817f8041a13"
      },
      "id": "pKvOzQeIz5IF",
      "execution_count": 71,
      "outputs": [
        {
          "output_type": "display_data",
          "data": {
            "text/plain": [
              "\u001b[90m# Source: spark<?> [?? x 5]\u001b[39m\n",
              "  term        estimate std.error statistic   p.value\n",
              "  \u001b[3m\u001b[90m<chr>\u001b[39m\u001b[23m          \u001b[3m\u001b[90m<dbl>\u001b[39m\u001b[23m     \u001b[3m\u001b[90m<dbl>\u001b[39m\u001b[23m     \u001b[3m\u001b[90m<dbl>\u001b[39m\u001b[23m     \u001b[3m\u001b[90m<dbl>\u001b[39m\u001b[23m\n",
              "\u001b[90m1\u001b[39m (Intercept)   25.2       6.20       4.07 0.000\u001b[4m0\u001b[24m\u001b[4m5\u001b[24m\u001b[4m7\u001b[24m8\n",
              "\u001b[90m2\u001b[39m Age            0.291     0.192      1.51 0.131    \n",
              "\u001b[90m3\u001b[39m (Intercept)   23.5       6.55       3.59 0.000\u001b[4m3\u001b[24m\u001b[4m8\u001b[24m\u001b[4m3\u001b[24m \n",
              "\u001b[90m4\u001b[39m Age            0.403     0.193      2.08 0.038\u001b[4m1\u001b[24m   "
            ]
          },
          "metadata": {}
        }
      ]
    },
    {
      "cell_type": "markdown",
      "source": [
        "Em contrapartida, se ao inves de queremos usar as partições de forma independente, mas sim de ajustar modelos por grupos, a função spark apply pode ser usada com o argumento group_by, aqui um exemplo de como realizariamos este ao reorganizar os nos para sobrevivencia"
      ],
      "metadata": {
        "id": "XSZSx4xw1OZs"
      },
      "id": "XSZSx4xw1OZs"
    },
    {
      "cell_type": "code",
      "source": [
        "spark_apply(\n",
        "  Dataset_Spark,\n",
        "  function(df) broom::tidy(lm(Fare ~ Age+Sex, df)),\n",
        "  names = c(\"term\", \"estimate\", \"std.error\", \"statistic\", \"p.value\"),\n",
        "  group_by=c('Survived')\n",
        "  )"
      ],
      "metadata": {
        "colab": {
          "base_uri": "https://localhost:8080/",
          "height": 173
        },
        "id": "jENDBuSV1mFh",
        "outputId": "5cd9fb88-6daf-401e-80f1-ae39fc37af10"
      },
      "id": "jENDBuSV1mFh",
      "execution_count": 78,
      "outputs": [
        {
          "output_type": "display_data",
          "data": {
            "text/plain": [
              "\u001b[90m# Source: spark<?> [?? x 6]\u001b[39m\n",
              "  Survived term        estimate std.error statistic  p.value\n",
              "     \u001b[3m\u001b[90m<int>\u001b[39m\u001b[23m \u001b[3m\u001b[90m<chr>\u001b[39m\u001b[23m          \u001b[3m\u001b[90m<dbl>\u001b[39m\u001b[23m     \u001b[3m\u001b[90m<dbl>\u001b[39m\u001b[23m     \u001b[3m\u001b[90m<dbl>\u001b[39m\u001b[23m    \u001b[3m\u001b[90m<dbl>\u001b[39m\u001b[23m\n",
              "\u001b[90m1\u001b[39m        1 (Intercept)   34.0       9.33      3.64  0.000\u001b[4m3\u001b[24m\u001b[4m1\u001b[24m\u001b[4m9\u001b[24m\n",
              "\u001b[90m2\u001b[39m        1 Age            0.750     0.274     2.74  0.006\u001b[4m6\u001b[24m\u001b[4m0\u001b[24m \n",
              "\u001b[90m3\u001b[39m        1 Sexmale      -\u001b[31m10\u001b[39m\u001b[31m.\u001b[39m\u001b[31m7\u001b[39m       8.77     -\u001b[31m1\u001b[39m\u001b[31m.\u001b[39m\u001b[31m22\u001b[39m  0.224   \n",
              "\u001b[90m4\u001b[39m        0 (Intercept)   18.4       4.79      3.84  0.000\u001b[4m1\u001b[24m\u001b[4m4\u001b[24m\u001b[4m0\u001b[24m\n",
              "\u001b[90m5\u001b[39m        0 Age            0.174     0.109     1.59  0.111   \n",
              "\u001b[90m6\u001b[39m        0 Sexmale       -\u001b[31m0\u001b[39m\u001b[31m.\u001b[39m\u001b[31m918\u001b[39m     4.32     -\u001b[31m0\u001b[39m\u001b[31m.\u001b[39m\u001b[31m212\u001b[39m 0.832   "
            ]
          },
          "metadata": {}
        }
      ]
    },
    {
      "cell_type": "markdown",
      "source": [
        "Em especial como a função spark_apply so aceita um elemento como agrupamento, para agrupar por multiplas colunas o que pode ser feito e se criar uma nova coluna que agrega as informações do controle"
      ],
      "metadata": {
        "id": "geUNwsuA3clY"
      },
      "id": "geUNwsuA3clY"
    },
    {
      "cell_type": "markdown",
      "source": [
        "Para execução mais rapida calculamos o numero de linhas para todo possivel valor de controle"
      ],
      "metadata": {
        "id": "wzUgxHW75ags"
      },
      "id": "wzUgxHW75ags"
    },
    {
      "cell_type": "code",
      "source": [
        "Dataset_Spark %>% mutate(Controle=paste0(Survived,Pclass)) %>% \n",
        "spark_apply(\n",
        "  function(df) nrow(df),\n",
        "  names = 'Media',\n",
        "  group_by=c('Controle')\n",
        ")"
      ],
      "metadata": {
        "colab": {
          "base_uri": "https://localhost:8080/",
          "height": 173
        },
        "id": "nuWJ_HMv3qI7",
        "outputId": "02901851-ac9b-4388-a25d-00dbd497253e"
      },
      "id": "nuWJ_HMv3qI7",
      "execution_count": 87,
      "outputs": [
        {
          "output_type": "display_data",
          "data": {
            "text/plain": [
              "\u001b[90m# Source: spark<?> [?? x 2]\u001b[39m\n",
              "  Controle Media\n",
              "  \u001b[3m\u001b[90m<chr>\u001b[39m\u001b[23m    \u001b[3m\u001b[90m<int>\u001b[39m\u001b[23m\n",
              "\u001b[90m1\u001b[39m 01          80\n",
              "\u001b[90m2\u001b[39m 12          87\n",
              "\u001b[90m3\u001b[39m 02          97\n",
              "\u001b[90m4\u001b[39m 03         372\n",
              "\u001b[90m5\u001b[39m 11         136\n",
              "\u001b[90m6\u001b[39m 13         119"
            ]
          },
          "metadata": {}
        }
      ]
    },
    {
      "cell_type": "markdown",
      "source": [
        "#MLIB"
      ],
      "metadata": {
        "id": "ht4BSvwzogCa"
      },
      "id": "ht4BSvwzogCa"
    },
    {
      "cell_type": "markdown",
      "source": [
        "# Usando o spark sem modificar seu pipeline: Integração no ambiente paralelo do R"
      ],
      "metadata": {
        "id": "P5rxWMT5oljr"
      },
      "id": "P5rxWMT5oljr"
    },
    {
      "cell_type": "code",
      "source": [
        "spark_disconnect(sc)"
      ],
      "metadata": {
        "id": "gqrt1s3zpHPL"
      },
      "id": "gqrt1s3zpHPL",
      "execution_count": null,
      "outputs": []
    },
    {
      "cell_type": "markdown",
      "source": [
        "Fim"
      ],
      "metadata": {
        "id": "q-oLxNklM3le"
      },
      "id": "q-oLxNklM3le"
    },
    {
      "cell_type": "code",
      "source": [
        ""
      ],
      "metadata": {
        "id": "SR8jvzu0Ligi"
      },
      "id": "SR8jvzu0Ligi",
      "execution_count": null,
      "outputs": []
    }
  ],
  "metadata": {
    "kernelspec": {
      "display_name": "R",
      "language": "R",
      "name": "ir"
    },
    "language_info": {
      "codemirror_mode": "r",
      "file_extension": ".r",
      "mimetype": "text/x-r-source",
      "name": "R",
      "pygments_lexer": "r",
      "version": "4.0.5"
    },
    "colab": {
      "name": "An Sparklyr introduction",
      "provenance": [],
      "collapsed_sections": []
    }
  },
  "nbformat": 4,
  "nbformat_minor": 5
}