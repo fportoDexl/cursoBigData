{
  "nbformat": 4,
  "nbformat_minor": 0,
  "metadata": {
    "colab": {
      "name": "Transformações.ipynb",
      "provenance": [],
      "authorship_tag": "ABX9TyOMcSgV+f1ZouPCBW2yO4tY",
      "include_colab_link": true
    },
    "kernelspec": {
      "name": "python3",
      "display_name": "Python 3"
    },
    "language_info": {
      "name": "python"
    }
  },
  "cells": [
    {
      "cell_type": "markdown",
      "metadata": {
        "id": "view-in-github",
        "colab_type": "text"
      },
      "source": [
        "<a href=\"https://colab.research.google.com/github/fportoDexl/cursoBigData/blob/main/src/Transforma%C3%A7%C3%B5es.ipynb\" target=\"_parent\"><img src=\"https://colab.research.google.com/assets/colab-badge.svg\" alt=\"Open In Colab\"/></a>"
      ]
    },
    {
      "cell_type": "markdown",
      "source": [
        "<img src='https://drive.google.com/uc?id=1Oj5GoldtG5ZWgGOyRLGkhthLR2nc6Lcj'>"
      ],
      "metadata": {
        "id": "u9DPV9DTmNo1"
      }
    },
    {
      "cell_type": "markdown",
      "source": [
        "# Exemplo 4 Aula 2 - Transformações"
      ],
      "metadata": {
        "id": "OUWGRIcGmUsB"
      }
    },
    {
      "cell_type": "code",
      "source": [
        "!pip install pyspark"
      ],
      "metadata": {
        "colab": {
          "base_uri": "https://localhost:8080/"
        },
        "id": "cd35IBJqmnKH",
        "outputId": "7218c1ac-f8b2-4d8b-e96e-9d575e3a9e8d"
      },
      "execution_count": 1,
      "outputs": [
        {
          "output_type": "stream",
          "name": "stdout",
          "text": [
            "Collecting pyspark\n",
            "  Downloading pyspark-3.2.1.tar.gz (281.4 MB)\n",
            "\u001b[K     |████████████████████████████████| 281.4 MB 34 kB/s \n",
            "\u001b[?25hCollecting py4j==0.10.9.3\n",
            "  Downloading py4j-0.10.9.3-py2.py3-none-any.whl (198 kB)\n",
            "\u001b[K     |████████████████████████████████| 198 kB 50.5 MB/s \n",
            "\u001b[?25hBuilding wheels for collected packages: pyspark\n",
            "  Building wheel for pyspark (setup.py) ... \u001b[?25l\u001b[?25hdone\n",
            "  Created wheel for pyspark: filename=pyspark-3.2.1-py2.py3-none-any.whl size=281853642 sha256=4a3269774d2738f94c9cdac37e0949088a1ca24905cb0c9f2ddd653d8e509785\n",
            "  Stored in directory: /root/.cache/pip/wheels/9f/f5/07/7cd8017084dce4e93e84e92efd1e1d5334db05f2e83bcef74f\n",
            "Successfully built pyspark\n",
            "Installing collected packages: py4j, pyspark\n",
            "Successfully installed py4j-0.10.9.3 pyspark-3.2.1\n"
          ]
        }
      ]
    },
    {
      "cell_type": "code",
      "execution_count": 2,
      "metadata": {
        "id": "TgxSb675mND8"
      },
      "outputs": [],
      "source": [
        "from pyspark import SparkContext\n",
        "import random"
      ]
    },
    {
      "cell_type": "code",
      "source": [
        "spark = SparkContext(appName=\"Transform\",master=\"local\")"
      ],
      "metadata": {
        "id": "NO6zHh9GrUH5"
      },
      "execution_count": 3,
      "outputs": []
    },
    {
      "cell_type": "markdown",
      "source": [
        "# Map"
      ],
      "metadata": {
        "id": "Q_Mbdrpyq_7L"
      }
    },
    {
      "cell_type": "code",
      "source": [
        "def find_k_nearest_neighbors(k,p, points):\n",
        "    distances = [abs(p-point) for point in points]\n",
        "    neighbors = distances[0:k]\n",
        "    return [p,neighbors]\n"
      ],
      "metadata": {
        "id": "8bfV2VlqrvTc"
      },
      "execution_count": 4,
      "outputs": []
    },
    {
      "cell_type": "code",
      "source": [
        "number_rdd = spark.parallelize(range(1,1000))\n",
        "points =  random.sample(range(1,5000),1000)  \n",
        "print (len(points))  "
      ],
      "metadata": {
        "colab": {
          "base_uri": "https://localhost:8080/"
        },
        "id": "rl4bkf7yr3pw",
        "outputId": "6957cc90-ea42-4735-f922-f3c941b79edb"
      },
      "execution_count": 5,
      "outputs": [
        {
          "output_type": "stream",
          "name": "stdout",
          "text": [
            "1000\n"
          ]
        }
      ]
    },
    {
      "cell_type": "code",
      "source": [
        "neighborsRDD = number_rdd.map (lambda p: find_k_nearest_neighbors(3,p, points))\n",
        "neighborsRDD.take(10)"
      ],
      "metadata": {
        "colab": {
          "base_uri": "https://localhost:8080/"
        },
        "id": "CR_N6SNbmTWo",
        "outputId": "0f0f21d9-8d0b-4062-ad70-d9d1b35fd019"
      },
      "execution_count": 6,
      "outputs": [
        {
          "output_type": "execute_result",
          "data": {
            "text/plain": [
              "[[1, [1066, 2564, 1957]],\n",
              " [2, [1065, 2563, 1956]],\n",
              " [3, [1064, 2562, 1955]],\n",
              " [4, [1063, 2561, 1954]],\n",
              " [5, [1062, 2560, 1953]],\n",
              " [6, [1061, 2559, 1952]],\n",
              " [7, [1060, 2558, 1951]],\n",
              " [8, [1059, 2557, 1950]],\n",
              " [9, [1058, 2556, 1949]],\n",
              " [10, [1057, 2555, 1948]]]"
            ]
          },
          "metadata": {},
          "execution_count": 6
        }
      ]
    },
    {
      "cell_type": "markdown",
      "source": [
        "# FlatMap"
      ],
      "metadata": {
        "id": "MmqYekEE1q6I"
      }
    },
    {
      "cell_type": "code",
      "source": [
        "inRDD = spark.parallelize([2,3,4])"
      ],
      "metadata": {
        "id": "nlZ9ZaQF2FUb"
      },
      "execution_count": 7,
      "outputs": []
    },
    {
      "cell_type": "code",
      "source": [
        "inRDD.count()"
      ],
      "metadata": {
        "colab": {
          "base_uri": "https://localhost:8080/"
        },
        "id": "97rKwuzE2gty",
        "outputId": "a99f8d2f-0ca2-4081-9844-fa4ef3d9ecad"
      },
      "execution_count": 8,
      "outputs": [
        {
          "output_type": "execute_result",
          "data": {
            "text/plain": [
              "3"
            ]
          },
          "metadata": {},
          "execution_count": 8
        }
      ]
    },
    {
      "cell_type": "code",
      "source": [
        "inRDD.flatMap(lambda x:range(1,x)).collect()"
      ],
      "metadata": {
        "colab": {
          "base_uri": "https://localhost:8080/"
        },
        "id": "2pbD69Vb2RPk",
        "outputId": "7b41c28d-ca41-460e-9de1-032b0f716e54"
      },
      "execution_count": 9,
      "outputs": [
        {
          "output_type": "execute_result",
          "data": {
            "text/plain": [
              "[1, 1, 2, 1, 2, 3]"
            ]
          },
          "metadata": {},
          "execution_count": 9
        }
      ]
    },
    {
      "cell_type": "code",
      "source": [
        "!wget https://raw.githubusercontent.com/fportoDexl/cursoBigData/main/data/word-count.txt"
      ],
      "metadata": {
        "colab": {
          "base_uri": "https://localhost:8080/"
        },
        "id": "nFBJkbXx2t_I",
        "outputId": "f26dcd9e-439d-41d0-92ec-c9c7288c98cd"
      },
      "execution_count": 10,
      "outputs": [
        {
          "output_type": "stream",
          "name": "stdout",
          "text": [
            "--2022-04-14 14:43:49--  https://raw.githubusercontent.com/fportoDexl/cursoBigData/main/data/word-count.txt\n",
            "Resolving raw.githubusercontent.com (raw.githubusercontent.com)... 185.199.109.133, 185.199.110.133, 185.199.111.133, ...\n",
            "Connecting to raw.githubusercontent.com (raw.githubusercontent.com)|185.199.109.133|:443... connected.\n",
            "HTTP request sent, awaiting response... 200 OK\n",
            "Length: 3875 (3.8K) [text/plain]\n",
            "Saving to: ‘word-count.txt’\n",
            "\n",
            "\rword-count.txt        0%[                    ]       0  --.-KB/s               \rword-count.txt      100%[===================>]   3.78K  --.-KB/s    in 0s      \n",
            "\n",
            "2022-04-14 14:43:50 (45.1 MB/s) - ‘word-count.txt’ saved [3875/3875]\n",
            "\n"
          ]
        }
      ]
    },
    {
      "cell_type": "code",
      "source": [
        "words=spark.textFile(\"word-count.txt\")\n",
        "wordMapRDD = words.map(lambda w: w.split(\" \"))\n",
        "totalMap=wordMapRDD.count()\n",
        "wordsFlatMapRDD = words.flatMap(lambda w: w.split(\" \"))\n",
        "totalflatMap=wordsFlatMapRDD.count()\n",
        "print(\"Total Map: \"+str(totalMap)+\" TotalFlatMap: \"+str(totalflatMap))"
      ],
      "metadata": {
        "colab": {
          "base_uri": "https://localhost:8080/"
        },
        "id": "I0yluBrY23Hp",
        "outputId": "22c05c8d-91f1-4e76-84e8-d9c1a37dee46"
      },
      "execution_count": 11,
      "outputs": [
        {
          "output_type": "stream",
          "name": "stdout",
          "text": [
            "Total Map: 38 TotalFlatMap: 604\n"
          ]
        }
      ]
    },
    {
      "cell_type": "markdown",
      "source": [
        "# FlatMapValues"
      ],
      "metadata": {
        "id": "hQXclV8463Xv"
      }
    },
    {
      "cell_type": "code",
      "source": [
        "xRDD = spark.parallelize([(\"a\", [\"x\", \"y\", \"z\"]), (\"b\", [\"p\", \"r\"])])\n",
        "\n",
        "def mirror (x): return x\n",
        "\n",
        "xRDD.flatMapValues(mirror).collect()\n",
        "\n"
      ],
      "metadata": {
        "colab": {
          "base_uri": "https://localhost:8080/"
        },
        "id": "MO46UMvZ67d5",
        "outputId": "7db7ea03-30fe-4b9a-ddd2-bb43e534bf25"
      },
      "execution_count": 13,
      "outputs": [
        {
          "output_type": "execute_result",
          "data": {
            "text/plain": [
              "[('a', 'x'), ('a', 'y'), ('a', 'z'), ('b', 'p'), ('b', 'r')]"
            ]
          },
          "metadata": {},
          "execution_count": 13
        }
      ]
    },
    {
      "cell_type": "markdown",
      "source": [
        "# MapPartitions"
      ],
      "metadata": {
        "id": "mNUjX6Rh8kZh"
      }
    },
    {
      "cell_type": "code",
      "source": [
        "from random import sample"
      ],
      "metadata": {
        "id": "yxJRwRcb_CTB"
      },
      "execution_count": 14,
      "outputs": []
    },
    {
      "cell_type": "code",
      "source": [
        "def processPartition(part):\n",
        "    for element in part:\n",
        "      yield element"
      ],
      "metadata": {
        "id": "dYEgbGoz86RN"
      },
      "execution_count": 16,
      "outputs": []
    },
    {
      "cell_type": "code",
      "source": [
        "sampleRDD = spark.parallelize([1,2,3,4,5,6,7],2)\n",
        "resultRDD = sampleRDD.mapPartitions(processPartition)\n",
        "resultRDD.take(7)\n"
      ],
      "metadata": {
        "colab": {
          "base_uri": "https://localhost:8080/"
        },
        "id": "Bf7_OGia8oOP",
        "outputId": "69d4f1b4-3209-4a86-d96d-03ae549446fd"
      },
      "execution_count": 17,
      "outputs": [
        {
          "output_type": "execute_result",
          "data": {
            "text/plain": [
              "[1, 2, 3, 4, 5, 6, 7]"
            ]
          },
          "metadata": {},
          "execution_count": 17
        }
      ]
    },
    {
      "cell_type": "markdown",
      "source": [
        "# PairRDD"
      ],
      "metadata": {
        "id": "Z14fPGkZLVPo"
      }
    },
    {
      "cell_type": "code",
      "source": [
        "data = [('Project', 1), ('Gutenberg’s', 1), ('Alice’s', 1),('Adventures', 1),('in', 1),\n",
        "('Wonderland', 1),('Project', 1),('Gutenberg’s', 1),('Adventures', 1),('in', 1),\n",
        "('Wonderland', 1),('Project', 1),('Gutenberg’s', 1)]\n",
        "pairrdd=spark.parallelize(data)\n",
        "pairrdd.coalesce(1).saveAsTextFile(\"/data/\")"
      ],
      "metadata": {
        "id": "O7ro4BoOLX96"
      },
      "execution_count": 18,
      "outputs": []
    },
    {
      "cell_type": "code",
      "source": [
        "from google.colab import drive\n",
        "drive.mount('/content/drive')"
      ],
      "metadata": {
        "id": "s99yx4ALyHEB"
      },
      "execution_count": null,
      "outputs": []
    },
    {
      "cell_type": "markdown",
      "source": [
        "#ReduceByKey"
      ],
      "metadata": {
        "id": "Q5DUzoJ0Tw19"
      }
    },
    {
      "cell_type": "code",
      "source": [
        "reducedbykeyRDD = pairrdd.reduceByKey(lambda a,b:a+b)\n",
        "reducedbykeyRDD.collect()"
      ],
      "metadata": {
        "colab": {
          "base_uri": "https://localhost:8080/"
        },
        "id": "RuZwwcTvT06S",
        "outputId": "6b75a459-19ff-4cef-c268-c64ef9622f84"
      },
      "execution_count": 72,
      "outputs": [
        {
          "output_type": "execute_result",
          "data": {
            "text/plain": [
              "[('Project', 3),\n",
              " ('Gutenberg’s', 3),\n",
              " ('Alice’s', 1),\n",
              " ('Adventures', 2),\n",
              " ('in', 2),\n",
              " ('Wonderland', 2)]"
            ]
          },
          "metadata": {},
          "execution_count": 72
        }
      ]
    }
  ]
}