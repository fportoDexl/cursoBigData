{
  "nbformat": 4,
  "nbformat_minor": 0,
  "metadata": {
    "colab": {
      "name": "taxi_cab_2021-map.ipynb",
      "provenance": [],
      "include_colab_link": true
    },
    "kernelspec": {
      "name": "python3",
      "display_name": "Python 3"
    },
    "language_info": {
      "name": "python"
    }
  },
  "cells": [
    {
      "cell_type": "markdown",
      "metadata": {
        "id": "view-in-github",
        "colab_type": "text"
      },
      "source": [
        "<a href=\"https://colab.research.google.com/github/fportoDexl/cursoBigData/blob/main/taxi_cab_2021_map.ipynb\" target=\"_parent\"><img src=\"https://colab.research.google.com/assets/colab-badge.svg\" alt=\"Open In Colab\"/></a>"
      ]
    },
    {
      "cell_type": "markdown",
      "source": [
        "## Yellow Taxi cab: registra viagens de taxi em Manhattan\n",
        "## Este notebook explora o processamento de dados tabulares (i.e viagens de taxi)\n",
        "## Neste exemplo, usamos a API RDD.\n",
        "## Procuramos por viagens não muito vantajosas, como muitos passageiros e baixa tarifa :)"
      ],
      "metadata": {
        "id": "-Apm2Cju9RYM"
      }
    },
    {
      "cell_type": "code",
      "execution_count": 12,
      "metadata": {
        "colab": {
          "base_uri": "https://localhost:8080/"
        },
        "id": "5XOYRVH7a-67",
        "outputId": "0aabdaa1-5874-4189-cbb2-e9dc68b41516"
      },
      "outputs": [
        {
          "output_type": "stream",
          "name": "stdout",
          "text": [
            "Requirement already satisfied: pyspark in /usr/local/lib/python3.7/dist-packages (3.2.1)\n",
            "Requirement already satisfied: py4j==0.10.9.3 in /usr/local/lib/python3.7/dist-packages (from pyspark) (0.10.9.3)\n"
          ]
        }
      ],
      "source": [
        "pip install pyspark"
      ]
    },
    {
      "cell_type": "code",
      "source": [
        "import pyspark\n",
        "from pyspark import SparkContext"
      ],
      "metadata": {
        "id": "LR7CYJNnb2PC"
      },
      "execution_count": 13,
      "outputs": []
    },
    {
      "cell_type": "code",
      "source": [
        "from google.colab import drive"
      ],
      "metadata": {
        "id": "5XVOujU5hd5v"
      },
      "execution_count": 14,
      "outputs": []
    },
    {
      "cell_type": "markdown",
      "source": [
        "## Monta um google drive"
      ],
      "metadata": {
        "id": "2cXSuY-8-Fq8"
      }
    },
    {
      "cell_type": "code",
      "source": [
        "drive.mount('/content/gdrive')"
      ],
      "metadata": {
        "colab": {
          "base_uri": "https://localhost:8080/"
        },
        "id": "LgUFFM7IhjI2",
        "outputId": "d1830817-a709-4d88-f3b0-892e33c3651c"
      },
      "execution_count": 15,
      "outputs": [
        {
          "output_type": "stream",
          "name": "stdout",
          "text": [
            "Drive already mounted at /content/gdrive; to attempt to forcibly remount, call drive.mount(\"/content/gdrive\", force_remount=True).\n"
          ]
        }
      ]
    },
    {
      "cell_type": "code",
      "source": [
        "!cd /content/gdrive/\n",
        "!ls -la gdrive/MyDrive/BigData/data\n",
        "!head gdrive/MyDrive/BigData/data/yellow_tripdata_2021-01.csv\n"
      ],
      "metadata": {
        "colab": {
          "base_uri": "https://localhost:8080/"
        },
        "id": "b01bMElGyfw4",
        "outputId": "10d271c4-93dd-45c6-99d3-a8a2afc8c7a6"
      },
      "execution_count": 16,
      "outputs": [
        {
          "output_type": "stream",
          "name": "stdout",
          "text": [
            "total 123029\n",
            "-rw------- 1 root root 125981363 Feb 11 01:33 yellow_tripdata_2021-01.csv\n",
            "VendorID,tpep_pickup_datetime,tpep_dropoff_datetime,passenger_count,trip_distance,RatecodeID,store_and_fwd_flag,PULocationID,DOLocationID,payment_type,fare_amount,extra,mta_tax,tip_amount,tolls_amount,improvement_surcharge,total_amount,congestion_surcharge\n",
            "1,2021-01-01 00:30:10,2021-01-01 00:36:12,1,2.10,1,N,142,43,2,8,3,0.5,0,0,0.3,11.8,2.5\n",
            "1,2021-01-01 00:51:20,2021-01-01 00:52:19,1,.20,1,N,238,151,2,3,0.5,0.5,0,0,0.3,4.3,0\n",
            "1,2021-01-01 00:43:30,2021-01-01 01:11:06,1,14.70,1,N,132,165,1,42,0.5,0.5,8.65,0,0.3,51.95,0\n",
            "1,2021-01-01 00:15:48,2021-01-01 00:31:01,0,10.60,1,N,138,132,1,29,0.5,0.5,6.05,0,0.3,36.35,0\n",
            "2,2021-01-01 00:31:49,2021-01-01 00:48:21,1,4.94,1,N,68,33,1,16.5,0.5,0.5,4.06,0,0.3,24.36,2.5\n",
            "1,2021-01-01 00:16:29,2021-01-01 00:24:30,1,1.60,1,N,224,68,1,8,3,0.5,2.35,0,0.3,14.15,2.5\n",
            "1,2021-01-01 00:00:28,2021-01-01 00:17:28,1,4.10,1,N,95,157,2,16,0.5,0.5,0,0,0.3,17.3,0\n",
            "1,2021-01-01 00:12:29,2021-01-01 00:30:34,1,5.70,1,N,90,40,2,18,3,0.5,0,0,0.3,21.8,2.5\n",
            "1,2021-01-01 00:39:16,2021-01-01 01:00:13,1,9.10,1,N,97,129,4,27.5,0.5,0.5,0,0,0.3,28.8,0\n"
          ]
        }
      ]
    },
    {
      "cell_type": "code",
      "source": [
        "spark = SparkContext(appName=\"aula-1\", master=\"local[4]\")"
      ],
      "metadata": {
        "id": "RtuEabmRb5qL",
        "colab": {
          "base_uri": "https://localhost:8080/",
          "height": 208
        },
        "outputId": "02f8daab-bf91-4d3c-cab8-00df93f5b739"
      },
      "execution_count": 17,
      "outputs": [
        {
          "output_type": "error",
          "ename": "ValueError",
          "evalue": "ignored",
          "traceback": [
            "\u001b[0;31m---------------------------------------------------------------------------\u001b[0m",
            "\u001b[0;31mValueError\u001b[0m                                Traceback (most recent call last)",
            "\u001b[0;32m<ipython-input-17-1ae11bf6c426>\u001b[0m in \u001b[0;36m<module>\u001b[0;34m()\u001b[0m\n\u001b[0;32m----> 1\u001b[0;31m \u001b[0mspark\u001b[0m \u001b[0;34m=\u001b[0m \u001b[0mSparkContext\u001b[0m\u001b[0;34m(\u001b[0m\u001b[0mappName\u001b[0m\u001b[0;34m=\u001b[0m\u001b[0;34m\"aula-1\"\u001b[0m\u001b[0;34m,\u001b[0m \u001b[0mmaster\u001b[0m\u001b[0;34m=\u001b[0m\u001b[0;34m\"local[4]\"\u001b[0m\u001b[0;34m)\u001b[0m\u001b[0;34m\u001b[0m\u001b[0;34m\u001b[0m\u001b[0m\n\u001b[0m",
            "\u001b[0;32m/usr/local/lib/python3.7/dist-packages/pyspark/context.py\u001b[0m in \u001b[0;36m__init__\u001b[0;34m(self, master, appName, sparkHome, pyFiles, environment, batchSize, serializer, conf, gateway, jsc, profiler_cls)\u001b[0m\n\u001b[1;32m    142\u001b[0m                 \" is not allowed as it is a security risk.\")\n\u001b[1;32m    143\u001b[0m \u001b[0;34m\u001b[0m\u001b[0m\n\u001b[0;32m--> 144\u001b[0;31m         \u001b[0mSparkContext\u001b[0m\u001b[0;34m.\u001b[0m\u001b[0m_ensure_initialized\u001b[0m\u001b[0;34m(\u001b[0m\u001b[0mself\u001b[0m\u001b[0;34m,\u001b[0m \u001b[0mgateway\u001b[0m\u001b[0;34m=\u001b[0m\u001b[0mgateway\u001b[0m\u001b[0;34m,\u001b[0m \u001b[0mconf\u001b[0m\u001b[0;34m=\u001b[0m\u001b[0mconf\u001b[0m\u001b[0;34m)\u001b[0m\u001b[0;34m\u001b[0m\u001b[0;34m\u001b[0m\u001b[0m\n\u001b[0m\u001b[1;32m    145\u001b[0m         \u001b[0;32mtry\u001b[0m\u001b[0;34m:\u001b[0m\u001b[0;34m\u001b[0m\u001b[0;34m\u001b[0m\u001b[0m\n\u001b[1;32m    146\u001b[0m             self._do_init(master, appName, sparkHome, pyFiles, environment, batchSize, serializer,\n",
            "\u001b[0;32m/usr/local/lib/python3.7/dist-packages/pyspark/context.py\u001b[0m in \u001b[0;36m_ensure_initialized\u001b[0;34m(cls, instance, gateway, conf)\u001b[0m\n\u001b[1;32m    353\u001b[0m                         \u001b[0;34m\" created by %s at %s:%s \"\u001b[0m\u001b[0;34m\u001b[0m\u001b[0;34m\u001b[0m\u001b[0m\n\u001b[1;32m    354\u001b[0m                         % (currentAppName, currentMaster,\n\u001b[0;32m--> 355\u001b[0;31m                             callsite.function, callsite.file, callsite.linenum))\n\u001b[0m\u001b[1;32m    356\u001b[0m                 \u001b[0;32melse\u001b[0m\u001b[0;34m:\u001b[0m\u001b[0;34m\u001b[0m\u001b[0;34m\u001b[0m\u001b[0m\n\u001b[1;32m    357\u001b[0m                     \u001b[0mSparkContext\u001b[0m\u001b[0;34m.\u001b[0m\u001b[0m_active_spark_context\u001b[0m \u001b[0;34m=\u001b[0m \u001b[0minstance\u001b[0m\u001b[0;34m\u001b[0m\u001b[0;34m\u001b[0m\u001b[0m\n",
            "\u001b[0;31mValueError\u001b[0m: Cannot run multiple SparkContexts at once; existing SparkContext(app=aula-1, master=local[4]) created by __init__ at <ipython-input-5-1ae11bf6c426>:1 "
          ]
        }
      ]
    },
    {
      "cell_type": "markdown",
      "source": [
        "## Lê o arquivo no google drive\n",
        "- O resultado cria um RDD com uma entrada por linha do arquivo\n",
        "- um filtro retira a linha de cabeçalho"
      ],
      "metadata": {
        "id": "BLZ2vWfU-L8N"
      }
    },
    {
      "cell_type": "code",
      "source": [
        "taxi_file_header = spark.textFile(\"/content/gdrive/MyDrive/BigData/data/yellow_tripdata_2021-01.csv\")\n",
        "taxi_file= taxi_file_header.filter(lambda l: not l.startswith(\"VendorID\"))"
      ],
      "metadata": {
        "id": "f8xXDOKPceWb"
      },
      "execution_count": 18,
      "outputs": []
    },
    {
      "cell_type": "markdown",
      "source": [
        "## Gera um RDD onde cada item é extraido do arquivo a partir\n",
        "## da delimitação por vírgula"
      ],
      "metadata": {
        "id": "FbhtZj3X-UCa"
      }
    },
    {
      "cell_type": "code",
      "source": [
        "list_trip = taxi_file.map(lambda a:a.split(\",\"))"
      ],
      "metadata": {
        "id": "PlTYxkMgdCv3"
      },
      "execution_count": 19,
      "outputs": []
    },
    {
      "cell_type": "code",
      "source": [
        "print(\"Total de Linhas:\"+str(list_trip.count()))"
      ],
      "metadata": {
        "colab": {
          "base_uri": "https://localhost:8080/"
        },
        "id": "KonD-1SQgrG-",
        "outputId": "24005f08-a768-4398-8be7-d570a3ddd0bb"
      },
      "execution_count": 20,
      "outputs": [
        {
          "output_type": "stream",
          "name": "stdout",
          "text": [
            "Total de Linhas:1369765\n"
          ]
        }
      ]
    },
    {
      "cell_type": "markdown",
      "source": [
        "## Criando pipelines sobre o RDD list_trip"
      ],
      "metadata": {
        "id": "WGUxdcdB5Cbq"
      }
    },
    {
      "cell_type": "markdown",
      "source": [
        "# Spark Dataflow\n",
        "\n",
        "1.   map\n",
        "2.   groupBy\n",
        "3.   MapValues\n",
        "\n",
        "\n",
        "\n",
        "\n",
        "\n",
        "\n"
      ],
      "metadata": {
        "id": "zyinMEtticHM"
      }
    },
    {
      "cell_type": "code",
      "source": [
        "transformRDD = list_trip.map(lambda a: (a,1)).groupByKey().mapValues(lambda v:sum(v)/avg(v))"
      ],
      "metadata": {
        "id": "kZGxf64k5KKx"
      },
      "execution_count": null,
      "outputs": []
    },
    {
      "cell_type": "markdown",
      "source": [
        "\n",
        "# Filtra campos nulos - Pre-processamento\n",
        "\n"
      ],
      "metadata": {
        "id": "wkjmhcH2jCrF"
      }
    },
    {
      "cell_type": "code",
      "source": [
        "filteredRDD=list_trip.filter(lambda a: a[10]!=\"\"  and a[3]!=\"\" )"
      ],
      "metadata": {
        "id": "u726sckKgybF"
      },
      "execution_count": 21,
      "outputs": []
    },
    {
      "cell_type": "code",
      "source": [
        "filteredRDD.count()"
      ],
      "metadata": {
        "colab": {
          "base_uri": "https://localhost:8080/"
        },
        "id": "n_WwTVAihEY8",
        "outputId": "91a1e300-f9ee-49d6-bc77-8f1d4f40f1eb"
      },
      "execution_count": 22,
      "outputs": [
        {
          "output_type": "execute_result",
          "data": {
            "text/plain": [
              "1271413"
            ]
          },
          "metadata": {},
          "execution_count": 22
        }
      ]
    },
    {
      "cell_type": "markdown",
      "source": [
        "\n",
        "\n",
        "\n",
        "## DataFlow\n",
        "\n",
        "\n",
        "\n",
        "1.   filter\n",
        "2.   map\n",
        "\n",
        "\n",
        "\n"
      ],
      "metadata": {
        "id": "jRmxc_4kjVFJ"
      }
    },
    {
      "cell_type": "code",
      "source": [
        "soma_filterRDD = filteredRDD.filter(lambda a: float(a[10]) < 10 and int(a[3])>2).map(lambda a:(a[1],[a[12],a[3]]))"
      ],
      "metadata": {
        "id": "MUBwFn9z8jcq"
      },
      "execution_count": 23,
      "outputs": []
    },
    {
      "cell_type": "code",
      "source": [
        "prejuizo=soma_filterRDD.count()"
      ],
      "metadata": {
        "id": "Mk6UEnlJj2E2"
      },
      "execution_count": 24,
      "outputs": []
    },
    {
      "cell_type": "code",
      "source": [
        "print(\"Viagens Prejuizo: \"+str(prejuizo))"
      ],
      "metadata": {
        "colab": {
          "base_uri": "https://localhost:8080/"
        },
        "id": "zDRfdhsWAMVg",
        "outputId": "440f164f-0e23-42db-c049-582bb20aa81c"
      },
      "execution_count": 25,
      "outputs": [
        {
          "output_type": "stream",
          "name": "stdout",
          "text": [
            "Viagens Prejuizo: 72434\n"
          ]
        }
      ]
    }
  ]
}